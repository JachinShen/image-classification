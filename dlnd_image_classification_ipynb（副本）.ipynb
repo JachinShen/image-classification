{
 "cells": [
  {
   "cell_type": "markdown",
   "metadata": {
    "colab_type": "text",
    "id": "ZXV1EHipyGUE"
   },
   "source": [
    "# 图像分类\n",
    "\n",
    "在此项目中，你将对 [CIFAR-10 数据集](https://www.cs.toronto.edu/~kriz/cifar.html) 中的图片进行分类。该数据集包含飞机、猫狗和其他物体。你需要预处理这些图片，然后用所有样本训练一个卷积神经网络。图片需要标准化（normalized），标签需要采用 one-hot 编码。你需要应用所学的知识构建卷积的、最大池化（max pooling）、丢弃（dropout）和完全连接（fully connected）的层。最后，你需要在样本图片上看到神经网络的预测结果。\n",
    "\n",
    "\n",
    "## 获取数据\n",
    "\n",
    "请运行以下单元，以下载 [CIFAR-10 数据集（Python版）](https://www.cs.toronto.edu/~kriz/cifar-10-python.tar.gz)。\n"
   ]
  },
  {
   "cell_type": "code",
   "execution_count": 58,
   "metadata": {
    "colab": {
     "autoexec": {
      "startup": false,
      "wait_interval": 0
     },
     "base_uri": "https://localhost:8080/",
     "height": 35,
     "output_extras": [
      {
       "item_id": 1
      }
     ]
    },
    "colab_type": "code",
    "executionInfo": {
     "elapsed": 655,
     "status": "ok",
     "timestamp": 1518436306157,
     "user": {
      "displayName": "Jachin Shen",
      "photoUrl": "https://lh3.googleusercontent.com/a/default-user=s128",
      "userId": "106689561339379028936"
     },
     "user_tz": -480
    },
    "id": "r7t4zy0fyGUF",
    "outputId": "1337a4a9-5d36-4382-cc1f-2f96c0159f59"
   },
   "outputs": [
    {
     "name": "stdout",
     "output_type": "stream",
     "text": [
      "All files found!\n"
     ]
    }
   ],
   "source": [
    "\"\"\"\n",
    "DON'T MODIFY ANYTHING IN THIS CELL THAT IS BELOW THIS LINE\n",
    "\"\"\"\n",
    "from urllib.request import urlretrieve\n",
    "from os.path import isfile, isdir\n",
    "from tqdm import tqdm\n",
    "import problem_unittests as tests\n",
    "import tarfile\n",
    "\n",
    "cifar10_dataset_folder_path = 'cifar-10-batches-py'\n",
    "\n",
    "# Use Floyd's cifar-10 dataset if present\n",
    "floyd_cifar10_location = '/input/cifar-10/python.tar.gz'\n",
    "if isfile(floyd_cifar10_location):\n",
    "    tar_gz_path = floyd_cifar10_location\n",
    "else:\n",
    "    tar_gz_path = 'cifar-10-python.tar.gz'\n",
    "\n",
    "class DLProgress(tqdm):\n",
    "    last_block = 0\n",
    "\n",
    "    def hook(self, block_num=1, block_size=1, total_size=None):\n",
    "        self.total = total_size\n",
    "        self.update((block_num - self.last_block) * block_size)\n",
    "        self.last_block = block_num\n",
    "\n",
    "if not isfile(tar_gz_path):\n",
    "    with DLProgress(unit='B', unit_scale=True, miniters=1, desc='CIFAR-10 Dataset') as pbar:\n",
    "        urlretrieve(\n",
    "            'https://www.cs.toronto.edu/~kriz/cifar-10-python.tar.gz',\n",
    "            tar_gz_path,\n",
    "            pbar.hook)\n",
    "\n",
    "if not isdir(cifar10_dataset_folder_path):\n",
    "    with tarfile.open(tar_gz_path) as tar:\n",
    "        tar.extractall()\n",
    "        tar.close()\n",
    "\n",
    "\n",
    "tests.test_folder_path(cifar10_dataset_folder_path)"
   ]
  },
  {
   "cell_type": "markdown",
   "metadata": {
    "colab_type": "text",
    "id": "FYI24o-jyGUM"
   },
   "source": [
    "## 探索数据\n",
    "\n",
    "该数据集分成了几部分／批次（batches），以免你的机器在计算时内存不足。CIFAR-10 数据集包含 5 个部分，名称分别为 `data_batch_1`、`data_batch_2`，以此类推。每个部分都包含以下某个类别的标签和图片：\n",
    "\n",
    "* 飞机\n",
    "* 汽车\n",
    "* 鸟类\n",
    "* 猫\n",
    "* 鹿\n",
    "* 狗\n",
    "* 青蛙\n",
    "* 马\n",
    "* 船只\n",
    "* 卡车\n",
    "\n",
    "了解数据集也是对数据进行预测的必经步骤。你可以通过更改 `batch_id` 和 `sample_id` 探索下面的代码单元。`batch_id` 是数据集一个部分的 ID（1 到 5）。`sample_id` 是该部分中图片和标签对（label pair）的 ID。\n",
    "\n",
    "问问你自己：“可能的标签有哪些？”、“图片数据的值范围是多少？”、“标签是按顺序排列，还是随机排列的？”。思考类似的问题，有助于你预处理数据，并使预测结果更准确。\n"
   ]
  },
  {
   "cell_type": "code",
   "execution_count": 59,
   "metadata": {
    "colab": {
     "autoexec": {
      "startup": false,
      "wait_interval": 0
     },
     "base_uri": "https://localhost:8080/",
     "height": 451,
     "output_extras": [
      {
       "item_id": 1
      },
      {
       "item_id": 2
      }
     ]
    },
    "colab_type": "code",
    "executionInfo": {
     "elapsed": 624,
     "status": "ok",
     "timestamp": 1518436307004,
     "user": {
      "displayName": "Jachin Shen",
      "photoUrl": "https://lh3.googleusercontent.com/a/default-user=s128",
      "userId": "106689561339379028936"
     },
     "user_tz": -480
    },
    "id": "YuYLhWnGyGUN",
    "outputId": "4cd91037-e177-4ab0-9b07-64a6273598fc"
   },
   "outputs": [
    {
     "name": "stdout",
     "output_type": "stream",
     "text": [
      "\n",
      "Stats of batch 1:\n",
      "Samples: 10000\n",
      "Label Counts: {0: 1005, 1: 974, 2: 1032, 3: 1016, 4: 999, 5: 937, 6: 1030, 7: 1001, 8: 1025, 9: 981}\n",
      "First 20 Labels: [6, 9, 9, 4, 1, 1, 2, 7, 8, 3, 4, 7, 7, 2, 9, 9, 9, 3, 2, 6]\n",
      "\n",
      "Example of Image 6:\n",
      "Image - Min Value: 7 Max Value: 249\n",
      "Image - Shape: (32, 32, 3)\n",
      "Label - Label Id: 2 Name: bird\n"
     ]
    },
    {
     "data": {
      "image/png": "[encoded data removed]",
      "text/plain": [
       "<matplotlib.figure.Figure at 0x7f5fc7d0a780>"
      ]
     },
     "metadata": {
      "image/png": {
       "height": 248,
       "width": 249
      },
      "tags": []
     },
     "output_type": "display_data"
    }
   ],
   "source": [
    "%matplotlib inline\n",
    "%config InlineBackend.figure_format = 'retina'\n",
    "\n",
    "import helper\n",
    "import numpy as np\n",
    "\n",
    "# Explore the dataset\n",
    "batch_id = 1\n",
    "sample_id = 6\n",
    "helper.display_stats(cifar10_dataset_folder_path, batch_id, sample_id)"
   ]
  },
  {
   "cell_type": "markdown",
   "metadata": {
    "colab_type": "text",
    "id": "YiVSeJQRyGUR"
   },
   "source": [
    "## 实现预处理函数\n",
    "\n",
    "### 标准化\n",
    "\n",
    "在下面的单元中，实现 `normalize` 函数，传入图片数据 `x`，并返回标准化 Numpy 数组。值应该在 0 到 1 的范围内（含 0 和 1）。返回对象应该和 `x` 的形状一样。\n"
   ]
  },
  {
   "cell_type": "code",
   "execution_count": 60,
   "metadata": {
    "colab": {
     "autoexec": {
      "startup": false,
      "wait_interval": 0
     },
     "base_uri": "https://localhost:8080/",
     "height": 35,
     "output_extras": [
      {
       "item_id": 1
      }
     ]
    },
    "colab_type": "code",
    "executionInfo": {
     "elapsed": 655,
     "status": "ok",
     "timestamp": 1518436307997,
     "user": {
      "displayName": "Jachin Shen",
      "photoUrl": "https://lh3.googleusercontent.com/a/default-user=s128",
      "userId": "106689561339379028936"
     },
     "user_tz": -480
    },
    "id": "L8B56Q5cyGUR",
    "outputId": "50232b80-60ec-4e46-a1a0-d9a3e1c7780e"
   },
   "outputs": [
    {
     "name": "stdout",
     "output_type": "stream",
     "text": [
      "Tests Passed\n"
     ]
    }
   ],
   "source": [
    "import numpy as np\n",
    "def normalize(x):\n",
    "    \"\"\"\n",
    "    Normalize a list of sample image data in the range of 0 to 1\n",
    "    : x: List of image data.  The image shape is (32, 32, 3)\n",
    "    : return: Numpy array of normalize data\n",
    "    \"\"\"\n",
    "    # TODO: Implement Function\n",
    "    #img_raw = np.array(x)\n",
    "    #pixel_max = img_raw.max()\n",
    "    #pixel_min = img_raw.min()\n",
    "    #img_normalized = (img_raw - pixel_min) / (pixel_max - pixel_min)\n",
    "    #print(img_normalized)\n",
    "    return x / 255.0\n",
    "\n",
    "\n",
    "\"\"\"\n",
    "DON'T MODIFY ANYTHING IN THIS CELL THAT IS BELOW THIS LINE\n",
    "\"\"\"\n",
    "tests.test_normalize(normalize)"
   ]
  },
  {
   "cell_type": "markdown",
   "metadata": {
    "colab_type": "text",
    "id": "uQIqUDj2yGUU"
   },
   "source": [
    "### One-hot 编码\n",
    "\n",
    "和之前的代码单元一样，你将为预处理实现一个函数。这次，你将实现 `one_hot_encode` 函数。输入，也就是 `x`，是一个标签列表。实现该函数，以返回为 one_hot 编码的 Numpy 数组的标签列表。标签的可能值为 0 到 9。每次调用 `one_hot_encode` 时，对于每个值，one_hot 编码函数应该返回相同的编码。确保将编码映射保存到该函数外面。\n",
    "\n",
    "提示：不要重复发明轮子。\n"
   ]
  },
  {
   "cell_type": "code",
   "execution_count": 61,
   "metadata": {
    "colab": {
     "autoexec": {
      "startup": false,
      "wait_interval": 0
     },
     "base_uri": "https://localhost:8080/",
     "height": 35,
     "output_extras": [
      {
       "item_id": 1
      }
     ]
    },
    "colab_type": "code",
    "executionInfo": {
     "elapsed": 641,
     "status": "ok",
     "timestamp": 1518436308981,
     "user": {
      "displayName": "Jachin Shen",
      "photoUrl": "https://lh3.googleusercontent.com/a/default-user=s128",
      "userId": "106689561339379028936"
     },
     "user_tz": -480
    },
    "id": "X1TDIeffyGUU",
    "outputId": "40e5391e-40ba-4bcf-c582-297ba54a02f1"
   },
   "outputs": [
    {
     "name": "stdout",
     "output_type": "stream",
     "text": [
      "Tests Passed\n"
     ]
    }
   ],
   "source": [
    "from sklearn.preprocessing import label_binarize\n",
    "# http://scikit-learn.org/stable/modules/generated/sklearn.preprocessing.label_binarize.html#sklearn.preprocessing.label_binarize\n",
    "label_one_hot_classes = range(10)\n",
    "def one_hot_encode(x):\n",
    "    \"\"\"\n",
    "    One hot encode a list of sample labels. Return a one-hot encoded vector for each label.\n",
    "    : x: List of sample Labels\n",
    "    : return: Numpy array of one-hot encoded labels\n",
    "    \"\"\"\n",
    "    # TODO: Implement Function\n",
    "    # print(label_binarize(x, classes = label_one_hot_classes))\n",
    "    return label_binarize(x, classes = label_one_hot_classes)\n",
    "\n",
    "\n",
    "\"\"\"\n",
    "DON'T MODIFY ANYTHING IN THIS CELL THAT IS BELOW THIS LINE\n",
    "\"\"\"\n",
    "tests.test_one_hot_encode(one_hot_encode)"
   ]
  },
  {
   "cell_type": "markdown",
   "metadata": {
    "colab_type": "text",
    "id": "KYzxIP8VyGUY"
   },
   "source": [
    "### 随机化数据\n",
    "\n",
    "之前探索数据时，你已经了解到，样本的顺序是随机的。再随机化一次也不会有什么关系，但是对于这个数据集没有必要。\n"
   ]
  },
  {
   "cell_type": "markdown",
   "metadata": {
    "colab_type": "text",
    "id": "o51rb2PKyGUZ"
   },
   "source": [
    "## 预处理所有数据并保存\n",
    "\n",
    "运行下方的代码单元，将预处理所有 CIFAR-10 数据，并保存到文件中。下面的代码还使用了 10% 的训练数据，用来验证。\n"
   ]
  },
  {
   "cell_type": "code",
   "execution_count": 0,
   "metadata": {
    "colab": {
     "autoexec": {
      "startup": false,
      "wait_interval": 0
     }
    },
    "colab_type": "code",
    "id": "CyQTIXCLyGUa"
   },
   "outputs": [],
   "source": [
    "\"\"\"\n",
    "DON'T MODIFY ANYTHING IN THIS CELL\n",
    "\"\"\"\n",
    "# Preprocess Training, Validation, and Testing Data\n",
    "helper.preprocess_and_save_data(cifar10_dataset_folder_path, normalize, one_hot_encode)"
   ]
  },
  {
   "cell_type": "markdown",
   "metadata": {
    "colab_type": "text",
    "id": "shtEdkfxyGUc"
   },
   "source": [
    "# 检查点\n",
    "\n",
    "这是你的第一个检查点。如果你什么时候决定再回到该记事本，或需要重新启动该记事本，你可以从这里开始。预处理的数据已保存到本地。\n"
   ]
  },
  {
   "cell_type": "code",
   "execution_count": 0,
   "metadata": {
    "colab": {
     "autoexec": {
      "startup": false,
      "wait_interval": 0
     }
    },
    "colab_type": "code",
    "id": "9rouMLeqyGUd"
   },
   "outputs": [],
   "source": [
    "\"\"\"\n",
    "DON'T MODIFY ANYTHING IN THIS CELL\n",
    "\"\"\"\n",
    "import pickle\n",
    "import problem_unittests as tests\n",
    "import helper\n",
    "\n",
    "# Load the Preprocessed Validation data\n",
    "valid_features, valid_labels = pickle.load(open('preprocess_validation.p', mode='rb'))"
   ]
  },
  {
   "cell_type": "markdown",
   "metadata": {
    "colab_type": "text",
    "id": "T_DzPEmsyGUf"
   },
   "source": [
    "## 构建网络\n",
    "\n",
    "对于该神经网络，你需要将每层都构建为一个函数。你看到的大部分代码都位于函数外面。要更全面地测试你的代码，我们需要你将每层放入一个函数中。这样使我们能够提供更好的反馈，并使用我们的统一测试检测简单的错误，然后再提交项目。\n",
    "\n",
    ">**注意**：如果你觉得每周很难抽出足够的时间学习这门课程，我们为此项目提供了一个小捷径。对于接下来的几个问题，你可以使用 [TensorFlow Layers](https://www.tensorflow.org/api_docs/python/tf/layers) 或 [TensorFlow Layers (contrib)](https://www.tensorflow.org/api_guides/python/contrib.layers) 程序包中的类来构建每个层级，但是“卷积和最大池化层级”部分的层级除外。TF Layers 和 Keras 及 TFLearn 层级类似，因此很容易学会。\n",
    "\n",
    ">但是，如果你想充分利用这门课程，请尝试自己解决所有问题，不使用 TF Layers 程序包中的任何类。你依然可以使用其他程序包中的类，这些类和你在 TF Layers 中的类名称是一样的！例如，你可以使用 TF Neural Network 版本的 `conv2d` 类 [tf.nn.conv2d](https://www.tensorflow.org/api_docs/python/tf/nn/conv2d)，而不是 TF Layers 版本的 `conv2d` 类 [tf.layers.conv2d](https://www.tensorflow.org/api_docs/python/tf/layers/conv2d)。\n",
    "\n",
    "我们开始吧！\n",
    "\n",
    "\n",
    "### 输入\n",
    "\n",
    "神经网络需要读取图片数据、one-hot 编码标签和丢弃保留概率（dropout keep probability）。请实现以下函数：\n",
    "\n",
    "* 实现 `neural_net_image_input`\n",
    " * 返回 [TF Placeholder](https://www.tensorflow.org/api_docs/python/tf/placeholder)\n",
    " * 使用 `image_shape` 设置形状，部分大小设为 `None`\n",
    " * 使用 [TF Placeholder](https://www.tensorflow.org/api_docs/python/tf/placeholder) 中的 TensorFlow `name` 参数对 TensorFlow 占位符 \"x\" 命名\n",
    "* 实现 `neural_net_label_input`\n",
    " * 返回 [TF Placeholder](https://www.tensorflow.org/api_docs/python/tf/placeholder)\n",
    " * 使用 `n_classes` 设置形状，部分大小设为 `None`\n",
    " * 使用 [TF Placeholder](https://www.tensorflow.org/api_docs/python/tf/placeholder) 中的 TensorFlow `name` 参数对 TensorFlow 占位符 \"y\" 命名\n",
    "* 实现 `neural_net_keep_prob_input`\n",
    " * 返回 [TF Placeholder](https://www.tensorflow.org/api_docs/python/tf/placeholder)，用于丢弃保留概率\n",
    " * 使用 [TF Placeholder](https://www.tensorflow.org/api_docs/python/tf/placeholder) 中的 TensorFlow `name` 参数对 TensorFlow 占位符 \"keep_prob\" 命名\n",
    "\n",
    "这些名称将在项目结束时，用于加载保存的模型。\n",
    "\n",
    "注意：TensorFlow 中的 `None` 表示形状可以是动态大小。"
   ]
  },
  {
   "cell_type": "code",
   "execution_count": 64,
   "metadata": {
    "colab": {
     "autoexec": {
      "startup": false,
      "wait_interval": 0
     },
     "base_uri": "https://localhost:8080/",
     "height": 72,
     "output_extras": [
      {
       "item_id": 1
      }
     ]
    },
    "colab_type": "code",
    "executionInfo": {
     "elapsed": 646,
     "status": "ok",
     "timestamp": 1518436326989,
     "user": {
      "displayName": "Jachin Shen",
      "photoUrl": "https://lh3.googleusercontent.com/a/default-user=s128",
      "userId": "106689561339379028936"
     },
     "user_tz": -480
    },
    "id": "Iz6FEmwvyGUg",
    "outputId": "80f0ae1e-e486-4bb1-9178-49c95f268b39"
   },
   "outputs": [
    {
     "name": "stdout",
     "output_type": "stream",
     "text": [
      "Image Input Tests Passed.\n",
      "Label Input Tests Passed.\n",
      "Keep Prob Tests Passed.\n"
     ]
    }
   ],
   "source": [
    "import tensorflow as tf\n",
    "\n",
    "def neural_net_image_input(image_shape):\n",
    "    \"\"\"\n",
    "    Return a Tensor for a batch of image input\n",
    "    : image_shape: Shape of the images\n",
    "    : return: Tensor for image input.\n",
    "    \"\"\"\n",
    "    # TODO: Implement Function\n",
    "\n",
    "    return tf.placeholder(tf.float32, shape = [None, *image_shape], name = \"x\")\n",
    "\n",
    "\n",
    "def neural_net_label_input(n_classes):\n",
    "    \"\"\"\n",
    "    Return a Tensor for a batch of label input\n",
    "    : n_classes: Number of classes\n",
    "    : return: Tensor for label input.\n",
    "    \"\"\"\n",
    "    # TODO: Implement Function\n",
    "    return tf.placeholder(tf.float32, shape = [None, n_classes], name = \"y\")\n",
    "\n",
    "\n",
    "def neural_net_keep_prob_input():\n",
    "    \"\"\"\n",
    "    Return a Tensor for keep probability\n",
    "    : return: Tensor for keep probability.\n",
    "    \"\"\"\n",
    "    # TODO: Implement Function\n",
    "    return tf.placeholder(tf.float32, shape = None, name = \"keep_prob\")\n",
    "\n",
    "\n",
    "\"\"\"\n",
    "DON'T MODIFY ANYTHING IN THIS CELL THAT IS BELOW THIS LINE\n",
    "\"\"\"\n",
    "tf.reset_default_graph()\n",
    "tests.test_nn_image_inputs(neural_net_image_input)\n",
    "tests.test_nn_label_inputs(neural_net_label_input)\n",
    "tests.test_nn_keep_prob_inputs(neural_net_keep_prob_input)"
   ]
  },
  {
   "cell_type": "markdown",
   "metadata": {
    "colab_type": "text",
    "id": "wpi6NLnCyGUj"
   },
   "source": [
    "### 卷积和最大池化层\n",
    "\n",
    "卷积层级适合处理图片。对于此代码单元，你应该实现函数 `conv2d_maxpool` 以便应用卷积然后进行最大池化：\n",
    "\n",
    "* 使用 `conv_ksize`、`conv_num_outputs` 和 `x_tensor` 的形状创建权重（weight）和偏置（bias）。\n",
    "* 使用权重和 `conv_strides` 对 `x_tensor` 应用卷积。\n",
    " * 建议使用我们建议的间距（padding），当然也可以使用任何其他间距。\n",
    "* 添加偏置\n",
    "* 向卷积中添加非线性激活（nonlinear activation）\n",
    "* 使用 `pool_ksize` 和 `pool_strides` 应用最大池化\n",
    " * 建议使用我们建议的间距（padding），当然也可以使用任何其他间距。\n",
    "\n",
    "**注意**：对于**此层**，**请勿使用** [TensorFlow Layers](https://www.tensorflow.org/api_docs/python/tf/layers) 或 [TensorFlow Layers (contrib)](https://www.tensorflow.org/api_guides/python/contrib.layers)，但是仍然可以使用 TensorFlow 的 [Neural Network](https://www.tensorflow.org/api_docs/python/tf/nn) 包。对于所有**其他层**，你依然可以使用快捷方法。\n"
   ]
  },
  {
   "cell_type": "code",
   "execution_count": 65,
   "metadata": {
    "colab": {
     "autoexec": {
      "startup": false,
      "wait_interval": 0
     },
     "base_uri": "https://localhost:8080/",
     "height": 35,
     "output_extras": [
      {
       "item_id": 1
      }
     ]
    },
    "colab_type": "code",
    "executionInfo": {
     "elapsed": 623,
     "status": "ok",
     "timestamp": 1518436328169,
     "user": {
      "displayName": "Jachin Shen",
      "photoUrl": "https://lh3.googleusercontent.com/a/default-user=s128",
      "userId": "106689561339379028936"
     },
     "user_tz": -480
    },
    "id": "51zNQAymyGUl",
    "outputId": "56ae3af1-32e4-48e7-c143-1522b01006f1"
   },
   "outputs": [
    {
     "name": "stdout",
     "output_type": "stream",
     "text": [
      "Tests Passed\n"
     ]
    }
   ],
   "source": [
    "def conv2d_maxpool(x_tensor, conv_num_outputs, conv_ksize, conv_strides, pool_ksize, pool_strides):\n",
    "    \"\"\"\n",
    "    Apply convolution then max pooling to x_tensor\n",
    "    :param x_tensor: TensorFlow Tensor\n",
    "    :param conv_num_outputs: Number of outputs for the convolutional layer\n",
    "    :param conv_ksize: kernal size 2-D Tuple for the convolutional layer\n",
    "    :param conv_strides: Stride 2-D Tuple for convolution\n",
    "    :param pool_ksize: kernal size 2-D Tuple for pool\n",
    "    :param pool_strides: Stride 2-D Tuple for pool\n",
    "    : return: A tensor that represents convolution and max pooling of x_tensor\n",
    "    \"\"\"\n",
    "    # TODO: Implement Function\n",
    "    W_conv = tf.Variable(tf.truncated_normal(shape = [*conv_ksize,int(x_tensor.shape[3]), conv_num_outputs], stddev=0.1))\n",
    "    b_conv = tf.Variable(tf.constant(0.1, shape = [conv_num_outputs]))\n",
    "    h_conv = tf.nn.relu(tf.nn.conv2d(x_tensor, W_conv, [1, *conv_strides, 1], padding = \"SAME\") + b_conv)\n",
    "    h_pool = tf.nn.max_pool(h_conv, [1, *pool_ksize, 1], [1, *pool_strides, 1], padding = \"SAME\")\n",
    "    return h_pool\n",
    "\n",
    "\n",
    "\"\"\"\n",
    "DON'T MODIFY ANYTHING IN THIS CELL THAT IS BELOW THIS LINE\n",
    "\"\"\"\n",
    "tests.test_con_pool(conv2d_maxpool)"
   ]
  },
  {
   "cell_type": "markdown",
   "metadata": {
    "colab_type": "text",
    "id": "4Cx6_6sgyGUo"
   },
   "source": [
    "### 扁平化层\n",
    "\n",
    "实现 `flatten` 函数，将 `x_tensor` 的维度从四维张量（4-D tensor）变成二维张量。输出应该是形状（*部分大小（Batch Size）*，*扁平化图片大小（Flattened Image Size）*）。快捷方法：对于此层，你可以使用 [TensorFlow Layers](https://www.tensorflow.org/api_docs/python/tf/layers) 或 [TensorFlow Layers (contrib)](https://www.tensorflow.org/api_guides/python/contrib.layers) 包中的类。如果你想要更大挑战，可以仅使用其他 TensorFlow 程序包。\n"
   ]
  },
  {
   "cell_type": "code",
   "execution_count": 66,
   "metadata": {
    "colab": {
     "autoexec": {
      "startup": false,
      "wait_interval": 0
     },
     "base_uri": "https://localhost:8080/",
     "height": 35,
     "output_extras": [
      {
       "item_id": 1
      }
     ]
    },
    "colab_type": "code",
    "executionInfo": {
     "elapsed": 666,
     "status": "ok",
     "timestamp": 1518436329193,
     "user": {
      "displayName": "Jachin Shen",
      "photoUrl": "https://lh3.googleusercontent.com/a/default-user=s128",
      "userId": "106689561339379028936"
     },
     "user_tz": -480
    },
    "id": "e43rY4hByGUp",
    "outputId": "2ecf0844-5f52-4de9-d191-654c5b8e8ed5"
   },
   "outputs": [
    {
     "name": "stdout",
     "output_type": "stream",
     "text": [
      "Tests Passed\n"
     ]
    }
   ],
   "source": [
    "def flatten(x_tensor):\n",
    "    \"\"\"\n",
    "    Flatten x_tensor to (Batch Size, Flattened Image Size)\n",
    "    : x_tensor: A tensor of size (Batch Size, ...), where ... are the image dimensions.\n",
    "    : return: A tensor of size (Batch Size, Flattened Image Size).\n",
    "    \"\"\"\n",
    "    # TODO: Implement Function\n",
    "    flattened_image_size = int(x_tensor.shape[1] \n",
    "                               * x_tensor.shape[2]\n",
    "                               * x_tensor.shape[3])\n",
    "    return tf.reshape(x_tensor, shape = [-1, flattened_image_size])\n",
    "\n",
    "\"\"\"\n",
    "DON'T MODIFY ANYTHING IN THIS CELL THAT IS BELOW THIS LINE\n",
    "\"\"\"\n",
    "tests.test_flatten(flatten)"
   ]
  },
  {
   "cell_type": "markdown",
   "metadata": {
    "colab_type": "text",
    "id": "I46_A-WMyGUu"
   },
   "source": [
    "### 全连接层\n",
    "\n",
    "实现 `fully_conn` 函数，以向 `x_tensor` 应用完全连接的层级，形状为（*部分大小（Batch Size）*，*num_outputs*）。快捷方法：对于此层，你可以使用 [TensorFlow Layers](https://www.tensorflow.org/api_docs/python/tf/layers) 或 [TensorFlow Layers (contrib)](https://www.tensorflow.org/api_guides/python/contrib.layers) 包中的类。如果你想要更大挑战，可以仅使用其他 TensorFlow 程序包。"
   ]
  },
  {
   "cell_type": "code",
   "execution_count": 67,
   "metadata": {
    "colab": {
     "autoexec": {
      "startup": false,
      "wait_interval": 0
     },
     "base_uri": "https://localhost:8080/",
     "height": 35,
     "output_extras": [
      {
       "item_id": 1
      }
     ]
    },
    "colab_type": "code",
    "executionInfo": {
     "elapsed": 599,
     "status": "ok",
     "timestamp": 1518436330029,
     "user": {
      "displayName": "Jachin Shen",
      "photoUrl": "https://lh3.googleusercontent.com/a/default-user=s128",
      "userId": "106689561339379028936"
     },
     "user_tz": -480
    },
    "id": "H1plqCRZyGUw",
    "outputId": "b17ce661-a2eb-427d-9bcc-2db7b01be876"
   },
   "outputs": [
    {
     "name": "stdout",
     "output_type": "stream",
     "text": [
      "Tests Passed\n"
     ]
    }
   ],
   "source": [
    "def fully_conn(x_tensor, num_outputs):\n",
    "    \"\"\"\n",
    "    Apply a fully connected layer to x_tensor using weight and bias\n",
    "    : x_tensor: A 2-D tensor where the first dimension is batch size.\n",
    "    : num_outputs: The number of output that the new tensor should be.\n",
    "    : return: A 2-D tensor where the second dimension is num_outputs.\n",
    "    \"\"\"\n",
    "    # TODO: Implement Function\n",
    "    W_fc = tf.Variable(\n",
    "        tf.truncated_normal(\n",
    "            shape = [int(x_tensor.shape[1]), num_outputs],\n",
    "            stddev = 0.1))\n",
    "    b_fc = tf.Variable(tf.constant(0.1, shape = [num_outputs]))\n",
    "    h_fc = tf.nn.relu(tf.matmul(x_tensor, W_fc) + b_fc)\n",
    "    return h_fc\n",
    "\n",
    "\"\"\"\n",
    "DON'T MODIFY ANYTHING IN THIS CELL THAT IS BELOW THIS LINE\n",
    "\"\"\"\n",
    "tests.test_fully_conn(fully_conn)"
   ]
  },
  {
   "cell_type": "markdown",
   "metadata": {
    "colab_type": "text",
    "id": "gzdpCW-EyGU0"
   },
   "source": [
    "### 输出层\n",
    "\n",
    "实现 `output` 函数，向 x_tensor 应用完全连接的层级，形状为（*部分大小（Batch Size）*，*num_outputs*）。快捷方法：对于此层，你可以使用 [TensorFlow Layers](https://www.tensorflow.org/api_docs/python/tf/layers) 或 [TensorFlow Layers (contrib)](https://www.tensorflow.org/api_guides/python/contrib.layers) 包中的类。如果你想要更大挑战，可以仅使用其他 TensorFlow 程序包。\n",
    "\n",
    "**注意**：该层级不应应用 Activation、softmax 或交叉熵（cross entropy）。"
   ]
  },
  {
   "cell_type": "code",
   "execution_count": 68,
   "metadata": {
    "colab": {
     "autoexec": {
      "startup": false,
      "wait_interval": 0
     },
     "base_uri": "https://localhost:8080/",
     "height": 35,
     "output_extras": [
      {
       "item_id": 1
      }
     ]
    },
    "colab_type": "code",
    "executionInfo": {
     "elapsed": 694,
     "status": "ok",
     "timestamp": 1518436330840,
     "user": {
      "displayName": "Jachin Shen",
      "photoUrl": "https://lh3.googleusercontent.com/a/default-user=s128",
      "userId": "106689561339379028936"
     },
     "user_tz": -480
    },
    "id": "WlONY3L8yGU1",
    "outputId": "c51b9398-2a1b-4a4f-e6bd-5ad73eb9ea9c"
   },
   "outputs": [
    {
     "name": "stdout",
     "output_type": "stream",
     "text": [
      "Tests Passed\n"
     ]
    }
   ],
   "source": [
    "def output(x_tensor, num_outputs):\n",
    "    \"\"\"\n",
    "    Apply a output layer to x_tensor using weight and bias\n",
    "    : x_tensor: A 2-D tensor where the first dimension is batch size.\n",
    "    : num_outputs: The number of output that the new tensor should be.\n",
    "    : return: A 2-D tensor where the second dimension is num_outputs.\n",
    "    \"\"\"\n",
    "    # TODO: Implement Function\n",
    "    W_fc = tf.Variable(\n",
    "        tf.truncated_normal(\n",
    "            shape = [int(x_tensor.shape[1]), num_outputs],\n",
    "            stddev = 0.1))\n",
    "    b_fc = tf.Variable(tf.constant(0.1, shape = [num_outputs]))\n",
    "    h_fc = tf.matmul(x_tensor, W_fc) + b_fc\n",
    "    return h_fc\n",
    "\n",
    "\n",
    "\"\"\"\n",
    "DON'T MODIFY ANYTHING IN THIS CELL THAT IS BELOW THIS LINE\n",
    "\"\"\"\n",
    "tests.test_output(output)"
   ]
  },
  {
   "cell_type": "markdown",
   "metadata": {
    "colab_type": "text",
    "id": "E8VpatBFyGU5"
   },
   "source": [
    "### 创建卷积模型\n",
    "\n",
    "实现函数 `conv_net`， 创建卷积神经网络模型。该函数传入一批图片 `x`，并输出对数（logits）。使用你在上方创建的层创建此模型：\n",
    "\n",
    "* 应用 1、2 或 3 个卷积和最大池化层（Convolution and Max Pool layers）\n",
    "* 应用一个扁平层（Flatten Layer）\n",
    "* 应用 1、2 或 3 个完全连接层（Fully Connected Layers）\n",
    "* 应用一个输出层（Output Layer）\n",
    "* 返回输出\n",
    "* 使用 `keep_prob` 向模型中的一个或多个层应用 [TensorFlow 的 Dropout](https://www.tensorflow.org/api_docs/python/tf/nn/dropout)"
   ]
  },
  {
   "cell_type": "code",
   "execution_count": 69,
   "metadata": {
    "colab": {
     "autoexec": {
      "startup": false,
      "wait_interval": 0
     },
     "base_uri": "https://localhost:8080/",
     "height": 35,
     "output_extras": [
      {
       "item_id": 1
      }
     ]
    },
    "colab_type": "code",
    "executionInfo": {
     "elapsed": 946,
     "status": "ok",
     "timestamp": 1518436331951,
     "user": {
      "displayName": "Jachin Shen",
      "photoUrl": "https://lh3.googleusercontent.com/a/default-user=s128",
      "userId": "106689561339379028936"
     },
     "user_tz": -480
    },
    "id": "b0uXvFObyGU5",
    "outputId": "350c3e10-e120-46df-c0a3-3765369c3022"
   },
   "outputs": [
    {
     "name": "stdout",
     "output_type": "stream",
     "text": [
      "Neural Network Built!\n"
     ]
    }
   ],
   "source": [
    "def conv_net(x, keep_prob):\n",
    "    \"\"\"\n",
    "    Create a convolutional neural network model\n",
    "    : x: Placeholder tensor that holds image data.\n",
    "    : keep_prob: Placeholder tensor that hold dropout keep probability.\n",
    "    : return: Tensor that represents logits\n",
    "    \"\"\"\n",
    "    # TODO: Apply 1, 2, or 3 Convolution and Max Pool layers\n",
    "    #    Play around with different number of outputs, kernel size and stride\n",
    "    # Function Definition from Above:\n",
    "    #    conv2d_maxpool(x_tensor, conv_num_outputs, conv_ksize, conv_strides, pool_ksize, pool_strides)\n",
    "    conv1 = conv2d_maxpool(x, 32, [3, 3], [1, 1], [2, 2], [2, 2])\n",
    "    conv1_drop = tf.nn.dropout(conv1, keep_prob)\n",
    "    conv2 = conv2d_maxpool(conv1_drop, 64, [3, 3], [1, 1], [2, 2], [2, 2])\n",
    "    conv2_drop = tf.nn.dropout(conv2, keep_prob)\n",
    "    \n",
    "\n",
    "    # TODO: Apply a Flatten Layer\n",
    "    # Function Definition from Above:\n",
    "    #   flatten(x_tensor)\n",
    "    flat1 = flatten(conv2_drop)\n",
    "    \n",
    "    flat1_drop = tf.nn.dropout(flat1, keep_prob)\n",
    "    \n",
    "\n",
    "    # TODO: Apply 1, 2, or 3 Fully Connected Layers\n",
    "    #    Play around with different number of outputs\n",
    "    # Function Definition from Above:\n",
    "    #   fully_conn(x_tensor, num_outputs)\n",
    "    fc1 = fully_conn(flat1_drop, 512)\n",
    "    fc1_drop = tf.nn.dropout(fc1, keep_prob)\n",
    "    \n",
    "    # TODO: Apply an Output Layer\n",
    "    #    Set this to the number of classes\n",
    "    # Function Definition from Above:\n",
    "    #   output(x_tensor, num_outputs)\n",
    "    y_out = output(fc1_drop, 10)\n",
    "    \n",
    "    \n",
    "    # TODO: return output\n",
    "    return y_out\n",
    "\n",
    "\n",
    "\"\"\"\n",
    "DON'T MODIFY ANYTHING IN THIS CELL THAT IS BELOW THIS LINE\n",
    "\"\"\"\n",
    "\n",
    "##############################\n",
    "## Build the Neural Network ##\n",
    "##############################\n",
    "\n",
    "# Remove previous weights, bias, inputs, etc..\n",
    "tf.reset_default_graph()\n",
    "\n",
    "# Inputs\n",
    "x = neural_net_image_input((32, 32, 3))\n",
    "y = neural_net_label_input(10)\n",
    "keep_prob = neural_net_keep_prob_input()\n",
    "\n",
    "# Model\n",
    "logits = conv_net(x, keep_prob)\n",
    "\n",
    "# Name logits Tensor, so that is can be loaded from disk after training\n",
    "logits = tf.identity(logits, name='logits')\n",
    "\n",
    "# Loss and Optimizer\n",
    "cost = tf.reduce_mean(tf.nn.softmax_cross_entropy_with_logits(logits=logits, labels=y))\n",
    "optimizer = tf.train.AdamOptimizer().minimize(cost)\n",
    "\n",
    "# Accuracy\n",
    "correct_pred = tf.equal(tf.argmax(logits, 1), tf.argmax(y, 1))\n",
    "accuracy = tf.reduce_mean(tf.cast(correct_pred, tf.float32), name='accuracy')\n",
    "\n",
    "tests.test_conv_net(conv_net)"
   ]
  },
  {
   "cell_type": "markdown",
   "metadata": {
    "colab_type": "text",
    "id": "XGJUPpPkyGU9"
   },
   "source": [
    "## 训练神经网络\n",
    "\n",
    "### 单次优化\n",
    "\n",
    "实现函数 `train_neural_network` 以进行单次优化（single optimization）。该优化应该使用 `optimizer` 优化 `session`，其中 `feed_dict` 具有以下参数：\n",
    "\n",
    "* `x` 表示图片输入\n",
    "* `y` 表示标签\n",
    "* `keep_prob` 表示丢弃的保留率\n",
    "\n",
    "每个部分都会调用该函数，所以 `tf.global_variables_initializer()` 已经被调用。\n",
    "\n",
    "注意：不需要返回任何内容。该函数只是用来优化神经网络。\n"
   ]
  },
  {
   "cell_type": "code",
   "execution_count": 70,
   "metadata": {
    "colab": {
     "autoexec": {
      "startup": false,
      "wait_interval": 0
     },
     "base_uri": "https://localhost:8080/",
     "height": 35,
     "output_extras": [
      {
       "item_id": 1
      }
     ]
    },
    "colab_type": "code",
    "executionInfo": {
     "elapsed": 617,
     "status": "ok",
     "timestamp": 1518436332774,
     "user": {
      "displayName": "Jachin Shen",
      "photoUrl": "https://lh3.googleusercontent.com/a/default-user=s128",
      "userId": "106689561339379028936"
     },
     "user_tz": -480
    },
    "id": "feVJ5DoayGU_",
    "outputId": "bd475178-0811-4d55-b877-ba7f05b2b4e2"
   },
   "outputs": [
    {
     "name": "stdout",
     "output_type": "stream",
     "text": [
      "Tests Passed\n"
     ]
    }
   ],
   "source": [
    "def train_neural_network(session, optimizer, keep_probability, feature_batch, label_batch):\n",
    "    \"\"\"\n",
    "    Optimize the session on a batch of images and labels\n",
    "    : session: Current TensorFlow session\n",
    "    : optimizer: TensorFlow optimizer function\n",
    "    : keep_probability: keep probability\n",
    "    : feature_batch: Batch of Numpy image data\n",
    "    : label_batch: Batch of Numpy label data\n",
    "    \"\"\"\n",
    "    # TODO: Implement Function\n",
    "    session.run(optimizer, feed_dict = {x: feature_batch, y: label_batch, keep_prob: keep_probability})\n",
    "    pass\n",
    "\n",
    "\n",
    "\"\"\"\n",
    "DON'T MODIFY ANYTHING IN THIS CELL THAT IS BELOW THIS LINE\n",
    "\"\"\"\n",
    "tests.test_train_nn(train_neural_network)"
   ]
  },
  {
   "cell_type": "markdown",
   "metadata": {
    "colab_type": "text",
    "id": "dll3HzOeyGVD"
   },
   "source": [
    "### 显示数据\n",
    "\n",
    "实现函数 `print_stats` 以输出损失和验证准确率。使用全局变量 `valid_features` 和 `valid_labels` 计算验证准确率。使用保留率 `1.0` 计算损失和验证准确率（loss and validation accuracy）。\n"
   ]
  },
  {
   "cell_type": "code",
   "execution_count": 0,
   "metadata": {
    "colab": {
     "autoexec": {
      "startup": false,
      "wait_interval": 0
     }
    },
    "colab_type": "code",
    "id": "Wnt0ULMzyGVD"
   },
   "outputs": [],
   "source": [
    "def print_stats(session, feature_batch, label_batch, cost, accuracy):\n",
    "    \"\"\"\n",
    "    Print information about loss and validation accuracy\n",
    "    : session: Current TensorFlow session\n",
    "    : feature_batch: Batch of Numpy image data\n",
    "    : label_batch: Batch of Numpy label data\n",
    "    : cost: TensorFlow cost function\n",
    "    : accuracy: TensorFlow accuracy function\n",
    "    \"\"\"\n",
    "    # TODO: Implement Function\n",
    "    print(\" loss: %g\"%session.run(cost, feed_dict = {x: feature_batch, y: label_batch, keep_prob:1.0}), end='')\n",
    "    print(\" accuracy: %g\"%session.run(accuracy, feed_dict = {x: valid_features, y: valid_labels, keep_prob: 1.0}))\n",
    "    pass"
   ]
  },
  {
   "cell_type": "markdown",
   "metadata": {
    "colab_type": "text",
    "id": "icCHZYDcyGVF"
   },
   "source": [
    "### 超参数\n",
    "\n",
    "调试以下超参数：\n",
    "* 设置 `epochs` 表示神经网络停止学习或开始过拟合的迭代次数\n",
    "* 设置 `batch_size`，表示机器内存允许的部分最大体积。大部分人设为以下常见内存大小：\n",
    "\n",
    " * 64\n",
    " * 128\n",
    " * 256\n",
    " * ...\n",
    "* 设置 `keep_probability` 表示使用丢弃时保留节点的概率"
   ]
  },
  {
   "cell_type": "code",
   "execution_count": 0,
   "metadata": {
    "colab": {
     "autoexec": {
      "startup": false,
      "wait_interval": 0
     }
    },
    "colab_type": "code",
    "id": "vBfW40k3yGVH"
   },
   "outputs": [],
   "source": [
    "# TODO: Tune Parameters\n",
    "epochs = 200\n",
    "batch_size = 512\n",
    "keep_probability = 0.4"
   ]
  },
  {
   "cell_type": "markdown",
   "metadata": {
    "colab_type": "text",
    "id": "c4beir69yGVK"
   },
   "source": [
    "### 在单个 CIFAR-10 部分上训练\n",
    "\n",
    "我们先用单个部分，而不是用所有的 CIFAR-10 批次训练神经网络。这样可以节省时间，并对模型进行迭代，以提高准确率。最终验证准确率达到 50% 或以上之后，在下一部分对所有数据运行模型。\n"
   ]
  },
  {
   "cell_type": "code",
   "execution_count": 73,
   "metadata": {
    "colab": {
     "autoexec": {
      "startup": false,
      "wait_interval": 0
     },
     "base_uri": "https://localhost:8080/",
     "height": 3728,
     "output_extras": [
      {
       "item_id": 58
      },
      {
       "item_id": 114
      },
      {
       "item_id": 170
      },
      {
       "item_id": 202
      }
     ]
    },
    "colab_type": "code",
    "executionInfo": {
     "elapsed": 238016,
     "status": "ok",
     "timestamp": 1518436573025,
     "user": {
      "displayName": "Jachin Shen",
      "photoUrl": "https://lh3.googleusercontent.com/a/default-user=s128",
      "userId": "106689561339379028936"
     },
     "user_tz": -480
    },
    "id": "7u6K4VVjyGVL",
    "outputId": "dcbac6e3-5345-47e5-d137-947136d35681"
   },
   "outputs": [
    {
     "name": "stdout",
     "output_type": "stream",
     "text": [
      "Checking the Training on a Single Batch...\n",
      "Epoch  1, CIFAR-10 Batch 1:   loss: 2.30167 accuracy: 0.1004\n",
      "Epoch  2, CIFAR-10 Batch 1:   loss: 2.28667 accuracy: 0.131\n",
      "Epoch  3, CIFAR-10 Batch 1:   loss: 2.28462 accuracy: 0.1684\n",
      "Epoch  4, CIFAR-10 Batch 1:   loss: 2.29135 accuracy: 0.1712\n",
      "Epoch  5, CIFAR-10 Batch 1:   loss: 2.29732 accuracy: 0.1472\n",
      "Epoch  6, CIFAR-10 Batch 1:   loss: 2.29903 accuracy: 0.129\n",
      "Epoch  7, CIFAR-10 Batch 1:   loss: 2.29951 accuracy: 0.1176\n",
      "Epoch  8, CIFAR-10 Batch 1:   loss: 2.29948 accuracy: 0.1288\n",
      "Epoch  9, CIFAR-10 Batch 1:   loss: 2.29919 accuracy: 0.138\n",
      "Epoch 10, CIFAR-10 Batch 1:   loss: 2.29733 accuracy: 0.1372\n",
      "Epoch 11, CIFAR-10 Batch 1:   loss: 2.29138 accuracy: 0.1538\n",
      "Epoch 12, CIFAR-10 Batch 1:   loss: 2.2768 accuracy: 0.1828\n",
      "Epoch 13, CIFAR-10 Batch 1:   loss: 2.25733 accuracy: 0.1844\n",
      "Epoch 14, CIFAR-10 Batch 1:   loss: 2.2289 accuracy: 0.2082\n",
      "Epoch 15, CIFAR-10 Batch 1:   loss: 2.19219 accuracy: 0.2134\n",
      "Epoch 16, CIFAR-10 Batch 1:   loss: 2.15017 accuracy: 0.2196\n",
      "Epoch 17, CIFAR-10 Batch 1:   loss: 2.11773 accuracy: 0.2254\n",
      "Epoch 18, CIFAR-10 Batch 1:   loss: 2.11732 accuracy: 0.2394\n",
      "Epoch 19, CIFAR-10 Batch 1:   loss: 2.08702 accuracy: 0.2502\n",
      "Epoch 20, CIFAR-10 Batch 1:   loss: 2.08225 accuracy: 0.2584\n",
      "Epoch 21, CIFAR-10 Batch 1:   loss: 2.06308 accuracy: 0.2738\n",
      "Epoch 22, CIFAR-10 Batch 1:   loss: 2.07221 accuracy: 0.2882\n",
      "Epoch 23, CIFAR-10 Batch 1:   loss: 2.04206 accuracy: 0.2826\n",
      "Epoch 24, CIFAR-10 Batch 1:   loss: 2.03261 accuracy: 0.2954\n",
      "Epoch 25, CIFAR-10 Batch 1:   loss: 2.02823 accuracy: 0.2922\n",
      "Epoch 26, CIFAR-10 Batch 1:   loss: 2.00995 accuracy: 0.3002\n",
      "Epoch 27, CIFAR-10 Batch 1:   loss: 2.01607 accuracy: 0.3136\n",
      "Epoch 28, CIFAR-10 Batch 1:   loss: 1.99717 accuracy: 0.3142\n",
      "Epoch 29, CIFAR-10 Batch 1:   loss: 1.9768 accuracy: 0.3212\n",
      "Epoch 30, CIFAR-10 Batch 1:   loss: 1.96959 accuracy: 0.319\n",
      "Epoch 31, CIFAR-10 Batch 1:   loss: 1.98145 accuracy: 0.3334\n",
      "Epoch 32, CIFAR-10 Batch 1:   loss: 1.95909 accuracy: 0.3294\n",
      "Epoch 33, CIFAR-10 Batch 1:   loss: 1.94869 accuracy: 0.3316\n",
      "Epoch 34, CIFAR-10 Batch 1:   loss: 1.93054 accuracy: 0.339\n",
      "Epoch 35, CIFAR-10 Batch 1:   loss: 1.93747 accuracy: 0.3402\n",
      "Epoch 36, CIFAR-10 Batch 1:   loss: 1.91639 accuracy: 0.3396\n",
      "Epoch 37, CIFAR-10 Batch 1:   loss: 1.92226 accuracy: 0.3468\n",
      "Epoch 38, CIFAR-10 Batch 1:   loss: 1.9109 accuracy: 0.3448\n",
      "Epoch 39, CIFAR-10 Batch 1:   loss: 1.89784 accuracy: 0.354\n",
      "Epoch 40, CIFAR-10 Batch 1:   loss: 1.89242 accuracy: 0.3578\n",
      "Epoch 41, CIFAR-10 Batch 1:   loss: 1.902 accuracy: 0.3608\n",
      "Epoch 42, CIFAR-10 Batch 1:   loss: 1.88007 accuracy: 0.3576\n",
      "Epoch 43, CIFAR-10 Batch 1:   loss: 1.86861 accuracy: 0.3626\n",
      "Epoch 44, CIFAR-10 Batch 1:   loss: 1.85188 accuracy: 0.3682\n",
      "Epoch 45, CIFAR-10 Batch 1:   loss: 1.85128 accuracy: 0.3706\n",
      "Epoch 46, CIFAR-10 Batch 1:   loss: 1.83883 accuracy: 0.3736\n",
      "Epoch 47, CIFAR-10 Batch 1:   loss: 1.83793 accuracy: 0.3744\n",
      "Epoch 48, CIFAR-10 Batch 1:   loss: 1.85001 accuracy: 0.3744\n",
      "Epoch 49, CIFAR-10 Batch 1:   loss: 1.81431 accuracy: 0.3776\n",
      "Epoch 50, CIFAR-10 Batch 1:   loss: 1.81803 accuracy: 0.3852\n",
      "Epoch 51, CIFAR-10 Batch 1:   loss: 1.80127 accuracy: 0.387\n",
      "Epoch 52, CIFAR-10 Batch 1:   loss: 1.81871 accuracy: 0.3912\n",
      "Epoch 53, CIFAR-10 Batch 1:   loss: 1.79564 accuracy: 0.3874\n",
      "Epoch 54, CIFAR-10 Batch 1:   loss: 1.8025 accuracy: 0.3918\n",
      "Epoch 55, CIFAR-10 Batch 1:   loss: 1.78204 accuracy: 0.395\n",
      "Epoch 56, CIFAR-10 Batch 1:   loss: 1.77635 accuracy: 0.3948\n",
      "Epoch 57, CIFAR-10 Batch 1:   loss: 1.78709 accuracy: 0.3942\n",
      "Epoch 58, CIFAR-10 Batch 1:   loss: 1.76363 accuracy: 0.388\n",
      "Epoch 59, CIFAR-10 Batch 1:   loss: 1.76854 accuracy: 0.3916\n",
      "Epoch 60, CIFAR-10 Batch 1:   loss: 1.75455 accuracy: 0.3916\n",
      "Epoch 61, CIFAR-10 Batch 1:   loss: 1.73582 accuracy: 0.398\n",
      "Epoch 62, CIFAR-10 Batch 1:   loss: 1.73396 accuracy: 0.4008\n",
      "Epoch 63, CIFAR-10 Batch 1:   loss: 1.75261 accuracy: 0.3988\n",
      "Epoch 64, CIFAR-10 Batch 1:   loss: 1.7373 accuracy: 0.4012\n",
      "Epoch 65, CIFAR-10 Batch 1:   loss: 1.71939 accuracy: 0.4026\n",
      "Epoch 66, CIFAR-10 Batch 1:   loss: 1.72314 accuracy: 0.4112\n",
      "Epoch 67, CIFAR-10 Batch 1:   loss: 1.72613 accuracy: 0.4054\n",
      "Epoch 68, CIFAR-10 Batch 1:   loss: 1.72099 accuracy: 0.4014\n",
      "Epoch 69, CIFAR-10 Batch 1:   loss: 1.70187 accuracy: 0.4138\n",
      "Epoch 70, CIFAR-10 Batch 1:   loss: 1.71286 accuracy: 0.408\n",
      "Epoch 71, CIFAR-10 Batch 1:   loss: 1.66873 accuracy: 0.4206\n",
      "Epoch 72, CIFAR-10 Batch 1:   loss: 1.67089 accuracy: 0.4178\n",
      "Epoch 73, CIFAR-10 Batch 1:   loss: 1.65431 accuracy: 0.4216\n",
      "Epoch 74, CIFAR-10 Batch 1:   loss: 1.6497 accuracy: 0.4292\n",
      "Epoch 75, CIFAR-10 Batch 1:   loss: 1.6425 accuracy: 0.425\n",
      "Epoch 76, CIFAR-10 Batch 1:   loss: 1.64265 accuracy: 0.4256\n",
      "Epoch 77, CIFAR-10 Batch 1:   loss: 1.6408 accuracy: 0.432\n",
      "Epoch 78, CIFAR-10 Batch 1:   loss: 1.64842 accuracy: 0.432\n",
      "Epoch 79, CIFAR-10 Batch 1:   loss: 1.63273 accuracy: 0.442\n",
      "Epoch 80, CIFAR-10 Batch 1:   loss: 1.63687 accuracy: 0.4314\n",
      "Epoch 81, CIFAR-10 Batch 1:   loss: 1.61716 accuracy: 0.437\n",
      "Epoch 82, CIFAR-10 Batch 1:   loss: 1.60133 accuracy: 0.4368\n",
      "Epoch 83, CIFAR-10 Batch 1:   loss: 1.62857 accuracy: 0.437\n",
      "Epoch 84, CIFAR-10 Batch 1:   loss: 1.5995 accuracy: 0.4406\n",
      "Epoch 85, CIFAR-10 Batch 1:   loss: 1.59755 accuracy: 0.4444\n",
      "Epoch 86, CIFAR-10 Batch 1:   loss: 1.59774 accuracy: 0.4456\n",
      "Epoch 87, CIFAR-10 Batch 1:   loss: 1.58902 accuracy: 0.4444\n",
      "Epoch 88, CIFAR-10 Batch 1:   loss: 1.56697 accuracy: 0.45\n",
      "Epoch 89, CIFAR-10 Batch 1:   loss: 1.57257 accuracy: 0.4558\n",
      "Epoch 90, CIFAR-10 Batch 1:   loss: 1.5645 accuracy: 0.4488\n",
      "Epoch 91, CIFAR-10 Batch 1:   loss: 1.57058 accuracy: 0.4534\n",
      "Epoch 92, CIFAR-10 Batch 1:   loss: 1.55101 accuracy: 0.456\n",
      "Epoch 93, CIFAR-10 Batch 1:   loss: 1.55712 accuracy: 0.4552\n",
      "Epoch 94, CIFAR-10 Batch 1:   loss: 1.53586 accuracy: 0.46\n",
      "Epoch 95, CIFAR-10 Batch 1:   loss: 1.53425 accuracy: 0.456\n",
      "Epoch 96, CIFAR-10 Batch 1:   loss: 1.52922 accuracy: 0.4642\n",
      "Epoch 97, CIFAR-10 Batch 1:   loss: 1.52052 accuracy: 0.4628\n",
      "Epoch 98, CIFAR-10 Batch 1:   loss: 1.51902 accuracy: 0.4672\n",
      "Epoch 99, CIFAR-10 Batch 1:   loss: 1.51393 accuracy: 0.4526\n",
      "Epoch 100, CIFAR-10 Batch 1:   loss: 1.52602 accuracy: 0.4666\n",
      "Epoch 101, CIFAR-10 Batch 1:   loss: 1.51782 accuracy: 0.4654\n",
      "Epoch 102, CIFAR-10 Batch 1:   loss: 1.51258 accuracy: 0.4682\n",
      "Epoch 103, CIFAR-10 Batch 1:   loss: 1.49892 accuracy: 0.465\n",
      "Epoch 104, CIFAR-10 Batch 1:   loss: 1.48452 accuracy: 0.4682\n",
      "Epoch 105, CIFAR-10 Batch 1:   loss: 1.47995 accuracy: 0.4744\n",
      "Epoch 106, CIFAR-10 Batch 1:   loss: 1.46738 accuracy: 0.4688\n",
      "Epoch 107, CIFAR-10 Batch 1:   loss: 1.46025 accuracy: 0.482\n",
      "Epoch 108, CIFAR-10 Batch 1:   loss: 1.45367 accuracy: 0.4844\n",
      "Epoch 109, CIFAR-10 Batch 1:   loss: 1.45854 accuracy: 0.473\n",
      "Epoch 110, CIFAR-10 Batch 1:   loss: 1.45086 accuracy: 0.48\n",
      "Epoch 111, CIFAR-10 Batch 1:   loss: 1.45694 accuracy: 0.4868\n",
      "Epoch 112, CIFAR-10 Batch 1:   loss: 1.44371 accuracy: 0.4834\n",
      "Epoch 113, CIFAR-10 Batch 1:   loss: 1.47109 accuracy: 0.4826\n",
      "Epoch 114, CIFAR-10 Batch 1:   loss: 1.45264 accuracy: 0.4834\n",
      "Epoch 115, CIFAR-10 Batch 1:   loss: 1.43509 accuracy: 0.4888\n",
      "Epoch 116, CIFAR-10 Batch 1:   loss: 1.42119 accuracy: 0.4858\n",
      "Epoch 117, CIFAR-10 Batch 1:   loss: 1.4372 accuracy: 0.482\n",
      "Epoch 118, CIFAR-10 Batch 1:   loss: 1.40275 accuracy: 0.4894\n",
      "Epoch 119, CIFAR-10 Batch 1:   loss: 1.41139 accuracy: 0.4954\n",
      "Epoch 120, CIFAR-10 Batch 1:   loss: 1.4074 accuracy: 0.4908\n",
      "Epoch 121, CIFAR-10 Batch 1:   loss: 1.38674 accuracy: 0.4968\n",
      "Epoch 122, CIFAR-10 Batch 1:   loss: 1.39588 accuracy: 0.4928\n",
      "Epoch 123, CIFAR-10 Batch 1:   loss: 1.37238 accuracy: 0.5002\n",
      "Epoch 124, CIFAR-10 Batch 1:   loss: 1.38693 accuracy: 0.5\n",
      "Epoch 125, CIFAR-10 Batch 1:   loss: 1.38219 accuracy: 0.4928\n",
      "Epoch 126, CIFAR-10 Batch 1:   loss: 1.37787 accuracy: 0.5034\n",
      "Epoch 127, CIFAR-10 Batch 1:   loss: 1.36303 accuracy: 0.5034\n",
      "Epoch 128, CIFAR-10 Batch 1:   loss: 1.34883 accuracy: 0.5034\n",
      "Epoch 129, CIFAR-10 Batch 1:   loss: 1.35064 accuracy: 0.5024\n",
      "Epoch 130, CIFAR-10 Batch 1:   loss: 1.36705 accuracy: 0.5008\n",
      "Epoch 131, CIFAR-10 Batch 1:   loss: 1.34115 accuracy: 0.5094\n",
      "Epoch 132, CIFAR-10 Batch 1:   loss: 1.3336 accuracy: 0.5114\n",
      "Epoch 133, CIFAR-10 Batch 1:   loss: 1.34922 accuracy: 0.5048\n",
      "Epoch 134, CIFAR-10 Batch 1:   loss: 1.33156 accuracy: 0.5078\n",
      "Epoch 135, CIFAR-10 Batch 1:   loss: 1.34128 accuracy: 0.515\n",
      "Epoch 136, CIFAR-10 Batch 1:   loss: 1.32944 accuracy: 0.507\n",
      "Epoch 137, CIFAR-10 Batch 1:   loss: 1.32791 accuracy: 0.5114\n",
      "Epoch 138, CIFAR-10 Batch 1:   loss: 1.31454 accuracy: 0.5144\n",
      "Epoch 139, CIFAR-10 Batch 1:   loss: 1.32675 accuracy: 0.5116\n",
      "Epoch 140, CIFAR-10 Batch 1:   loss: 1.29822 accuracy: 0.5154\n",
      "Epoch 141, CIFAR-10 Batch 1:   loss: 1.29707 accuracy: 0.5192\n",
      "Epoch 142, CIFAR-10 Batch 1:   loss: 1.29636 accuracy: 0.5184\n",
      "Epoch 143, CIFAR-10 Batch 1:   loss: 1.29593 accuracy: 0.521\n",
      "Epoch 144, CIFAR-10 Batch 1:   loss: 1.3055 accuracy: 0.5254\n",
      "Epoch 145, CIFAR-10 Batch 1:   loss: 1.25817 accuracy: 0.5212\n",
      "Epoch 146, CIFAR-10 Batch 1:   loss: 1.27269 accuracy: 0.5154\n",
      "Epoch 147, CIFAR-10 Batch 1:   loss: 1.2857 accuracy: 0.5176\n",
      "Epoch 148, CIFAR-10 Batch 1:   loss: 1.26334 accuracy: 0.5194\n",
      "Epoch 149, CIFAR-10 Batch 1:   loss: 1.27236 accuracy: 0.5198\n",
      "Epoch 150, CIFAR-10 Batch 1:   loss: 1.27791 accuracy: 0.519\n",
      "Epoch 151, CIFAR-10 Batch 1:   loss: 1.26065 accuracy: 0.5244\n",
      "Epoch 152, CIFAR-10 Batch 1:   loss: 1.27092 accuracy: 0.5288\n",
      "Epoch 153, CIFAR-10 Batch 1:   loss: 1.27574 accuracy: 0.5214\n",
      "Epoch 154, CIFAR-10 Batch 1:   loss: 1.27128 accuracy: 0.5238\n",
      "Epoch 155, CIFAR-10 Batch 1:   loss: 1.24617 accuracy: 0.5194\n",
      "Epoch 156, CIFAR-10 Batch 1:   loss: 1.23735 accuracy: 0.5286\n",
      "Epoch 157, CIFAR-10 Batch 1:   loss: 1.21785 accuracy: 0.5292\n",
      "Epoch 158, CIFAR-10 Batch 1:   loss: 1.2313 accuracy: 0.531\n",
      "Epoch 159, CIFAR-10 Batch 1:   loss: 1.23573 accuracy: 0.5304\n",
      "Epoch 160, CIFAR-10 Batch 1:   loss: 1.2124 accuracy: 0.5336\n",
      "Epoch 161, CIFAR-10 Batch 1:   loss: 1.24471 accuracy: 0.527\n",
      "Epoch 162, CIFAR-10 Batch 1:   loss: 1.21848 accuracy: 0.54\n",
      "Epoch 163, CIFAR-10 Batch 1:   loss: 1.20272 accuracy: 0.5372\n",
      "Epoch 164, CIFAR-10 Batch 1:   loss: 1.21499 accuracy: 0.5342\n",
      "Epoch 165, CIFAR-10 Batch 1:   loss: 1.20165 accuracy: 0.5416\n",
      "Epoch 166, CIFAR-10 Batch 1:   loss: 1.1877 accuracy: 0.542\n",
      "Epoch 167, CIFAR-10 Batch 1:   loss: 1.20692 accuracy: 0.5362\n",
      "Epoch 168, CIFAR-10 Batch 1:   loss: 1.18196 accuracy: 0.5434\n"
     ]
    },
    {
     "name": "stdout",
     "output_type": "stream",
     "text": [
      "Epoch 169, CIFAR-10 Batch 1:   loss: 1.1878 accuracy: 0.54\n",
      "Epoch 170, CIFAR-10 Batch 1:   loss: 1.17134 accuracy: 0.5464\n",
      "Epoch 171, CIFAR-10 Batch 1:   loss: 1.16019 accuracy: 0.5408\n",
      "Epoch 172, CIFAR-10 Batch 1:   loss: 1.16734 accuracy: 0.5484\n",
      "Epoch 173, CIFAR-10 Batch 1:   loss: 1.15001 accuracy: 0.5462\n",
      "Epoch 174, CIFAR-10 Batch 1:   loss: 1.15259 accuracy: 0.5496\n",
      "Epoch 175, CIFAR-10 Batch 1:   loss: 1.14325 accuracy: 0.5426\n",
      "Epoch 176, CIFAR-10 Batch 1:   loss: 1.16196 accuracy: 0.5432\n",
      "Epoch 177, CIFAR-10 Batch 1:   loss: 1.17856 accuracy: 0.5454\n",
      "Epoch 178, CIFAR-10 Batch 1:   loss: 1.15124 accuracy: 0.5438\n",
      "Epoch 179, CIFAR-10 Batch 1:   loss: 1.12978 accuracy: 0.5502\n",
      "Epoch 180, CIFAR-10 Batch 1:   loss: 1.14894 accuracy: 0.5412\n",
      "Epoch 181, CIFAR-10 Batch 1:   loss: 1.14525 accuracy: 0.5456\n",
      "Epoch 182, CIFAR-10 Batch 1:   loss: 1.13662 accuracy: 0.546\n",
      "Epoch 183, CIFAR-10 Batch 1:   loss: 1.13336 accuracy: 0.5538\n",
      "Epoch 184, CIFAR-10 Batch 1:   loss: 1.10819 accuracy: 0.556\n",
      "Epoch 185, CIFAR-10 Batch 1:   loss: 1.11953 accuracy: 0.561\n",
      "Epoch 186, CIFAR-10 Batch 1:   loss: 1.10255 accuracy: 0.5584\n",
      "Epoch 187, CIFAR-10 Batch 1:   loss: 1.10686 accuracy: 0.56\n",
      "Epoch 188, CIFAR-10 Batch 1:   loss: 1.11666 accuracy: 0.5572\n",
      "Epoch 189, CIFAR-10 Batch 1:   loss: 1.10553 accuracy: 0.5604\n",
      "Epoch 190, CIFAR-10 Batch 1:   loss: 1.10682 accuracy: 0.5618\n",
      "Epoch 191, CIFAR-10 Batch 1:   loss: 1.09477 accuracy: 0.5614\n",
      "Epoch 192, CIFAR-10 Batch 1:   loss: 1.0992 accuracy: 0.554\n",
      "Epoch 193, CIFAR-10 Batch 1:   loss: 1.08005 accuracy: 0.563\n",
      "Epoch 194, CIFAR-10 Batch 1:   loss: 1.09472 accuracy: 0.5604\n",
      "Epoch 195, CIFAR-10 Batch 1:   loss: 1.10951 accuracy: 0.5576\n",
      "Epoch 196, CIFAR-10 Batch 1:   loss: 1.10372 accuracy: 0.5624\n",
      "Epoch 197, CIFAR-10 Batch 1:   loss: 1.06376 accuracy: 0.5632\n",
      "Epoch 198, CIFAR-10 Batch 1:   loss: 1.07653 accuracy: 0.561\n",
      "Epoch 199, CIFAR-10 Batch 1:   loss: 1.07778 accuracy: 0.5672\n",
      "Epoch 200, CIFAR-10 Batch 1:   loss: 1.08624 accuracy: 0.5622\n"
     ]
    }
   ],
   "source": [
    "\"\"\"\n",
    "DON'T MODIFY ANYTHING IN THIS CELL\n",
    "\"\"\"\n",
    "print('Checking the Training on a Single Batch...')\n",
    "with tf.Session() as sess:\n",
    "    # Initializing the variables\n",
    "    sess.run(tf.global_variables_initializer())\n",
    "    \n",
    "    # Training cycle\n",
    "    for epoch in range(epochs):\n",
    "        batch_i = 1\n",
    "        for batch_features, batch_labels in helper.load_preprocess_training_batch(batch_i, batch_size):\n",
    "            train_neural_network(sess, optimizer, keep_probability, batch_features, batch_labels)\n",
    "        print('Epoch {:>2}, CIFAR-10 Batch {}:  '.format(epoch + 1, batch_i), end='')\n",
    "        print_stats(sess, batch_features, batch_labels, cost, accuracy)"
   ]
  },
  {
   "cell_type": "markdown",
   "metadata": {
    "colab_type": "text",
    "id": "EZBPuDxgyGVQ"
   },
   "source": [
    "### 完全训练模型\n",
    "\n",
    "现在，单个 CIFAR-10 部分的准确率已经不错了，试试所有五个部分吧。"
   ]
  },
  {
   "cell_type": "code",
   "execution_count": 74,
   "metadata": {
    "colab": {
     "autoexec": {
      "startup": false,
      "wait_interval": 0
     },
     "base_uri": "https://localhost:8080/",
     "height": 18497,
     "output_extras": [
      {
       "item_id": 58
      },
      {
       "item_id": 114
      },
      {
       "item_id": 170
      },
      {
       "item_id": 226
      },
      {
       "item_id": 282
      },
      {
       "item_id": 338
      },
      {
       "item_id": 394
      },
      {
       "item_id": 450
      },
      {
       "item_id": 506
      },
      {
       "item_id": 561
      },
      {
       "item_id": 616
      },
      {
       "item_id": 671
      },
      {
       "item_id": 726
      },
      {
       "item_id": 781
      },
      {
       "item_id": 836
      },
      {
       "item_id": 891
      },
      {
       "item_id": 946
      },
      {
       "item_id": 1002
      }
     ]
    },
    "colab_type": "code",
    "executionInfo": {
     "elapsed": 1191236,
     "status": "ok",
     "timestamp": 1518437764292,
     "user": {
      "displayName": "Jachin Shen",
      "photoUrl": "https://lh3.googleusercontent.com/a/default-user=s128",
      "userId": "106689561339379028936"
     },
     "user_tz": -480
    },
    "id": "Wpez8I5fyGVQ",
    "outputId": "c6545410-15a1-430a-cf4b-6ad515331411"
   },
   "outputs": [
    {
     "name": "stdout",
     "output_type": "stream",
     "text": [
      "Training...\n",
      "Epoch  1, CIFAR-10 Batch 1:   loss: 2.30912 accuracy: 0.1108\n",
      "Epoch  1, CIFAR-10 Batch 2:   loss: 2.28775 accuracy: 0.1304\n",
      "Epoch  1, CIFAR-10 Batch 3:   loss: 2.27942 accuracy: 0.178\n",
      "Epoch  1, CIFAR-10 Batch 4:   loss: 2.27584 accuracy: 0.1902\n",
      "Epoch  1, CIFAR-10 Batch 5:   loss: 2.2796 accuracy: 0.1764\n",
      "Epoch  2, CIFAR-10 Batch 1:   loss: 2.29058 accuracy: 0.1626\n",
      "Epoch  2, CIFAR-10 Batch 2:   loss: 2.28532 accuracy: 0.1736\n",
      "Epoch  2, CIFAR-10 Batch 3:   loss: 2.278 accuracy: 0.1822\n",
      "Epoch  2, CIFAR-10 Batch 4:   loss: 2.25673 accuracy: 0.1808\n",
      "Epoch  2, CIFAR-10 Batch 5:   loss: 2.22409 accuracy: 0.1956\n",
      "Epoch  3, CIFAR-10 Batch 1:   loss: 2.20716 accuracy: 0.2018\n",
      "Epoch  3, CIFAR-10 Batch 2:   loss: 2.1478 accuracy: 0.2136\n",
      "Epoch  3, CIFAR-10 Batch 3:   loss: 2.13888 accuracy: 0.2278\n",
      "Epoch  3, CIFAR-10 Batch 4:   loss: 2.09141 accuracy: 0.2446\n",
      "Epoch  3, CIFAR-10 Batch 5:   loss: 2.07668 accuracy: 0.2534\n",
      "Epoch  4, CIFAR-10 Batch 1:   loss: 2.10284 accuracy: 0.2626\n",
      "Epoch  4, CIFAR-10 Batch 2:   loss: 2.04413 accuracy: 0.2626\n",
      "Epoch  4, CIFAR-10 Batch 3:   loss: 2.04098 accuracy: 0.2778\n",
      "Epoch  4, CIFAR-10 Batch 4:   loss: 2.00262 accuracy: 0.2932\n",
      "Epoch  4, CIFAR-10 Batch 5:   loss: 1.9976 accuracy: 0.2858\n",
      "Epoch  5, CIFAR-10 Batch 1:   loss: 2.03413 accuracy: 0.2868\n",
      "Epoch  5, CIFAR-10 Batch 2:   loss: 1.97098 accuracy: 0.311\n",
      "Epoch  5, CIFAR-10 Batch 3:   loss: 1.96227 accuracy: 0.3192\n",
      "Epoch  5, CIFAR-10 Batch 4:   loss: 1.92921 accuracy: 0.3204\n",
      "Epoch  5, CIFAR-10 Batch 5:   loss: 1.93285 accuracy: 0.3164\n",
      "Epoch  6, CIFAR-10 Batch 1:   loss: 1.96972 accuracy: 0.3248\n",
      "Epoch  6, CIFAR-10 Batch 2:   loss: 1.90752 accuracy: 0.337\n",
      "Epoch  6, CIFAR-10 Batch 3:   loss: 1.88468 accuracy: 0.338\n",
      "Epoch  6, CIFAR-10 Batch 4:   loss: 1.85794 accuracy: 0.3342\n",
      "Epoch  6, CIFAR-10 Batch 5:   loss: 1.87049 accuracy: 0.3308\n",
      "Epoch  7, CIFAR-10 Batch 1:   loss: 1.92312 accuracy: 0.3448\n",
      "Epoch  7, CIFAR-10 Batch 2:   loss: 1.86444 accuracy: 0.3482\n",
      "Epoch  7, CIFAR-10 Batch 3:   loss: 1.81033 accuracy: 0.357\n",
      "Epoch  7, CIFAR-10 Batch 4:   loss: 1.81058 accuracy: 0.3522\n",
      "Epoch  7, CIFAR-10 Batch 5:   loss: 1.83656 accuracy: 0.3482\n",
      "Epoch  8, CIFAR-10 Batch 1:   loss: 1.88922 accuracy: 0.3628\n",
      "Epoch  8, CIFAR-10 Batch 2:   loss: 1.8176 accuracy: 0.3642\n",
      "Epoch  8, CIFAR-10 Batch 3:   loss: 1.76652 accuracy: 0.3728\n",
      "Epoch  8, CIFAR-10 Batch 4:   loss: 1.77151 accuracy: 0.3656\n",
      "Epoch  8, CIFAR-10 Batch 5:   loss: 1.79463 accuracy: 0.3556\n",
      "Epoch  9, CIFAR-10 Batch 1:   loss: 1.86234 accuracy: 0.362\n",
      "Epoch  9, CIFAR-10 Batch 2:   loss: 1.79664 accuracy: 0.3718\n",
      "Epoch  9, CIFAR-10 Batch 3:   loss: 1.72941 accuracy: 0.3758\n",
      "Epoch  9, CIFAR-10 Batch 4:   loss: 1.73362 accuracy: 0.3792\n",
      "Epoch  9, CIFAR-10 Batch 5:   loss: 1.78144 accuracy: 0.3576\n",
      "Epoch 10, CIFAR-10 Batch 1:   loss: 1.82337 accuracy: 0.3762\n",
      "Epoch 10, CIFAR-10 Batch 2:   loss: 1.7912 accuracy: 0.38\n",
      "Epoch 10, CIFAR-10 Batch 3:   loss: 1.67754 accuracy: 0.392\n",
      "Epoch 10, CIFAR-10 Batch 4:   loss: 1.70735 accuracy: 0.3808\n",
      "Epoch 10, CIFAR-10 Batch 5:   loss: 1.74505 accuracy: 0.3712\n",
      "Epoch 11, CIFAR-10 Batch 1:   loss: 1.80254 accuracy: 0.3928\n",
      "Epoch 11, CIFAR-10 Batch 2:   loss: 1.74372 accuracy: 0.3886\n",
      "Epoch 11, CIFAR-10 Batch 3:   loss: 1.62831 accuracy: 0.3998\n",
      "Epoch 11, CIFAR-10 Batch 4:   loss: 1.66996 accuracy: 0.3938\n",
      "Epoch 11, CIFAR-10 Batch 5:   loss: 1.70717 accuracy: 0.3826\n",
      "Epoch 12, CIFAR-10 Batch 1:   loss: 1.76541 accuracy: 0.4006\n",
      "Epoch 12, CIFAR-10 Batch 2:   loss: 1.72484 accuracy: 0.3978\n",
      "Epoch 12, CIFAR-10 Batch 3:   loss: 1.58673 accuracy: 0.419\n",
      "Epoch 12, CIFAR-10 Batch 4:   loss: 1.65501 accuracy: 0.4094\n",
      "Epoch 12, CIFAR-10 Batch 5:   loss: 1.68647 accuracy: 0.3988\n",
      "Epoch 13, CIFAR-10 Batch 1:   loss: 1.72166 accuracy: 0.404\n",
      "Epoch 13, CIFAR-10 Batch 2:   loss: 1.73457 accuracy: 0.3978\n",
      "Epoch 13, CIFAR-10 Batch 3:   loss: 1.55824 accuracy: 0.4102\n",
      "Epoch 13, CIFAR-10 Batch 4:   loss: 1.62104 accuracy: 0.416\n",
      "Epoch 13, CIFAR-10 Batch 5:   loss: 1.6443 accuracy: 0.4162\n",
      "Epoch 14, CIFAR-10 Batch 1:   loss: 1.69323 accuracy: 0.4212\n",
      "Epoch 14, CIFAR-10 Batch 2:   loss: 1.63577 accuracy: 0.4214\n",
      "Epoch 14, CIFAR-10 Batch 3:   loss: 1.50719 accuracy: 0.4376\n",
      "Epoch 14, CIFAR-10 Batch 4:   loss: 1.59394 accuracy: 0.4232\n",
      "Epoch 14, CIFAR-10 Batch 5:   loss: 1.60992 accuracy: 0.4334\n",
      "Epoch 15, CIFAR-10 Batch 1:   loss: 1.68526 accuracy: 0.4246\n",
      "Epoch 15, CIFAR-10 Batch 2:   loss: 1.62651 accuracy: 0.4382\n",
      "Epoch 15, CIFAR-10 Batch 3:   loss: 1.48382 accuracy: 0.4424\n",
      "Epoch 15, CIFAR-10 Batch 4:   loss: 1.55872 accuracy: 0.4394\n",
      "Epoch 15, CIFAR-10 Batch 5:   loss: 1.57379 accuracy: 0.4344\n",
      "Epoch 16, CIFAR-10 Batch 1:   loss: 1.64214 accuracy: 0.4366\n",
      "Epoch 16, CIFAR-10 Batch 2:   loss: 1.61412 accuracy: 0.4438\n",
      "Epoch 16, CIFAR-10 Batch 3:   loss: 1.45009 accuracy: 0.4502\n",
      "Epoch 16, CIFAR-10 Batch 4:   loss: 1.55725 accuracy: 0.4438\n",
      "Epoch 16, CIFAR-10 Batch 5:   loss: 1.53716 accuracy: 0.45\n",
      "Epoch 17, CIFAR-10 Batch 1:   loss: 1.63303 accuracy: 0.4496\n",
      "Epoch 17, CIFAR-10 Batch 2:   loss: 1.59745 accuracy: 0.4448\n",
      "Epoch 17, CIFAR-10 Batch 3:   loss: 1.42171 accuracy: 0.4652\n",
      "Epoch 17, CIFAR-10 Batch 4:   loss: 1.52103 accuracy: 0.4474\n",
      "Epoch 17, CIFAR-10 Batch 5:   loss: 1.5358 accuracy: 0.4464\n",
      "Epoch 18, CIFAR-10 Batch 1:   loss: 1.59927 accuracy: 0.4542\n",
      "Epoch 18, CIFAR-10 Batch 2:   loss: 1.53321 accuracy: 0.4714\n",
      "Epoch 18, CIFAR-10 Batch 3:   loss: 1.38488 accuracy: 0.469\n",
      "Epoch 18, CIFAR-10 Batch 4:   loss: 1.50117 accuracy: 0.4552\n",
      "Epoch 18, CIFAR-10 Batch 5:   loss: 1.49201 accuracy: 0.4648\n",
      "Epoch 19, CIFAR-10 Batch 1:   loss: 1.55613 accuracy: 0.4644\n",
      "Epoch 19, CIFAR-10 Batch 2:   loss: 1.58268 accuracy: 0.4576\n",
      "Epoch 19, CIFAR-10 Batch 3:   loss: 1.36031 accuracy: 0.484\n",
      "Epoch 19, CIFAR-10 Batch 4:   loss: 1.46251 accuracy: 0.4698\n",
      "Epoch 19, CIFAR-10 Batch 5:   loss: 1.45684 accuracy: 0.4812\n",
      "Epoch 20, CIFAR-10 Batch 1:   loss: 1.57743 accuracy: 0.4642\n",
      "Epoch 20, CIFAR-10 Batch 2:   loss: 1.48885 accuracy: 0.4838\n",
      "Epoch 20, CIFAR-10 Batch 3:   loss: 1.35076 accuracy: 0.4878\n",
      "Epoch 20, CIFAR-10 Batch 4:   loss: 1.41878 accuracy: 0.4824\n",
      "Epoch 20, CIFAR-10 Batch 5:   loss: 1.4448 accuracy: 0.4818\n",
      "Epoch 21, CIFAR-10 Batch 1:   loss: 1.51631 accuracy: 0.4824\n",
      "Epoch 21, CIFAR-10 Batch 2:   loss: 1.46073 accuracy: 0.4966\n",
      "Epoch 21, CIFAR-10 Batch 3:   loss: 1.32558 accuracy: 0.4926\n",
      "Epoch 21, CIFAR-10 Batch 4:   loss: 1.3849 accuracy: 0.4936\n",
      "Epoch 21, CIFAR-10 Batch 5:   loss: 1.44109 accuracy: 0.4788\n",
      "Epoch 22, CIFAR-10 Batch 1:   loss: 1.48818 accuracy: 0.5032\n",
      "Epoch 22, CIFAR-10 Batch 2:   loss: 1.52889 accuracy: 0.4676\n",
      "Epoch 22, CIFAR-10 Batch 3:   loss: 1.31241 accuracy: 0.491\n",
      "Epoch 22, CIFAR-10 Batch 4:   loss: 1.39186 accuracy: 0.4898\n",
      "Epoch 22, CIFAR-10 Batch 5:   loss: 1.38311 accuracy: 0.4984\n",
      "Epoch 23, CIFAR-10 Batch 1:   loss: 1.47633 accuracy: 0.4978\n",
      "Epoch 23, CIFAR-10 Batch 2:   loss: 1.46618 accuracy: 0.4944\n",
      "Epoch 23, CIFAR-10 Batch 3:   loss: 1.29045 accuracy: 0.504\n",
      "Epoch 23, CIFAR-10 Batch 4:   loss: 1.34881 accuracy: 0.506\n",
      "Epoch 23, CIFAR-10 Batch 5:   loss: 1.3932 accuracy: 0.4948\n",
      "Epoch 24, CIFAR-10 Batch 1:   loss: 1.44386 accuracy: 0.5032\n",
      "Epoch 24, CIFAR-10 Batch 2:   loss: 1.42473 accuracy: 0.508\n",
      "Epoch 24, CIFAR-10 Batch 3:   loss: 1.26388 accuracy: 0.5234\n",
      "Epoch 24, CIFAR-10 Batch 4:   loss: 1.34372 accuracy: 0.5104\n",
      "Epoch 24, CIFAR-10 Batch 5:   loss: 1.36519 accuracy: 0.5046\n",
      "Epoch 25, CIFAR-10 Batch 1:   loss: 1.44534 accuracy: 0.5082\n",
      "Epoch 25, CIFAR-10 Batch 2:   loss: 1.37726 accuracy: 0.5146\n",
      "Epoch 25, CIFAR-10 Batch 3:   loss: 1.26721 accuracy: 0.5164\n",
      "Epoch 25, CIFAR-10 Batch 4:   loss: 1.31642 accuracy: 0.5156\n",
      "Epoch 25, CIFAR-10 Batch 5:   loss: 1.32332 accuracy: 0.5234\n",
      "Epoch 26, CIFAR-10 Batch 1:   loss: 1.4161 accuracy: 0.5164\n",
      "Epoch 26, CIFAR-10 Batch 2:   loss: 1.37637 accuracy: 0.5244\n",
      "Epoch 26, CIFAR-10 Batch 3:   loss: 1.24296 accuracy: 0.5218\n",
      "Epoch 26, CIFAR-10 Batch 4:   loss: 1.28958 accuracy: 0.5224\n",
      "Epoch 26, CIFAR-10 Batch 5:   loss: 1.34357 accuracy: 0.5076\n",
      "Epoch 27, CIFAR-10 Batch 1:   loss: 1.45804 accuracy: 0.5154\n",
      "Epoch 27, CIFAR-10 Batch 2:   loss: 1.33397 accuracy: 0.5316\n",
      "Epoch 27, CIFAR-10 Batch 3:   loss: 1.2196 accuracy: 0.5356\n",
      "Epoch 27, CIFAR-10 Batch 4:   loss: 1.29786 accuracy: 0.5232\n",
      "Epoch 27, CIFAR-10 Batch 5:   loss: 1.31828 accuracy: 0.5268\n",
      "Epoch 28, CIFAR-10 Batch 1:   loss: 1.41681 accuracy: 0.5232\n",
      "Epoch 28, CIFAR-10 Batch 2:   loss: 1.32077 accuracy: 0.5338\n",
      "Epoch 28, CIFAR-10 Batch 3:   loss: 1.23657 accuracy: 0.5272\n",
      "Epoch 28, CIFAR-10 Batch 4:   loss: 1.27015 accuracy: 0.5262\n",
      "Epoch 28, CIFAR-10 Batch 5:   loss: 1.29538 accuracy: 0.5362\n",
      "Epoch 29, CIFAR-10 Batch 1:   loss: 1.37511 accuracy: 0.535\n",
      "Epoch 29, CIFAR-10 Batch 2:   loss: 1.3452 accuracy: 0.5234\n",
      "Epoch 29, CIFAR-10 Batch 3:   loss: 1.20477 accuracy: 0.5406\n",
      "Epoch 29, CIFAR-10 Batch 4:   loss: 1.278 accuracy: 0.5294\n",
      "Epoch 29, CIFAR-10 Batch 5:   loss: 1.32275 accuracy: 0.523\n",
      "Epoch 30, CIFAR-10 Batch 1:   loss: 1.3817 accuracy: 0.529\n",
      "Epoch 30, CIFAR-10 Batch 2:   loss: 1.29664 accuracy: 0.5454\n",
      "Epoch 30, CIFAR-10 Batch 3:   loss: 1.21573 accuracy: 0.539\n",
      "Epoch 30, CIFAR-10 Batch 4:   loss: 1.25126 accuracy: 0.5306\n",
      "Epoch 30, CIFAR-10 Batch 5:   loss: 1.27887 accuracy: 0.5392\n",
      "Epoch 31, CIFAR-10 Batch 1:   loss: 1.37132 accuracy: 0.5408\n",
      "Epoch 31, CIFAR-10 Batch 2:   loss: 1.29068 accuracy: 0.5434\n",
      "Epoch 31, CIFAR-10 Batch 3:   loss: 1.1932 accuracy: 0.545\n",
      "Epoch 31, CIFAR-10 Batch 4:   loss: 1.24813 accuracy: 0.5454\n",
      "Epoch 31, CIFAR-10 Batch 5:   loss: 1.29954 accuracy: 0.5266\n",
      "Epoch 32, CIFAR-10 Batch 1:   loss: 1.36016 accuracy: 0.5404\n",
      "Epoch 32, CIFAR-10 Batch 2:   loss: 1.28532 accuracy: 0.5486\n",
      "Epoch 32, CIFAR-10 Batch 3:   loss: 1.191 accuracy: 0.5312\n",
      "Epoch 32, CIFAR-10 Batch 4:   loss: 1.22592 accuracy: 0.5448\n",
      "Epoch 32, CIFAR-10 Batch 5:   loss: 1.29286 accuracy: 0.5346\n",
      "Epoch 33, CIFAR-10 Batch 1:   loss: 1.34572 accuracy: 0.5424\n",
      "Epoch 33, CIFAR-10 Batch 2:   loss: 1.3154 accuracy: 0.5386\n",
      "Epoch 33, CIFAR-10 Batch 3:   loss: 1.16475 accuracy: 0.5538\n",
      "Epoch 33, CIFAR-10 Batch 4:   loss: 1.20698 accuracy: 0.55\n",
      "Epoch 33, CIFAR-10 Batch 5:   loss: 1.24499 accuracy: 0.5436\n",
      "Epoch 34, CIFAR-10 Batch 1:   loss: 1.35949 accuracy: 0.5398\n",
      "Epoch 34, CIFAR-10 Batch 2:   loss: 1.31534 accuracy: 0.5498\n",
      "Epoch 34, CIFAR-10 Batch 3:   loss: 1.13257 accuracy: 0.5546\n"
     ]
    },
    {
     "name": "stdout",
     "output_type": "stream",
     "text": [
      "Epoch 34, CIFAR-10 Batch 4:   loss: 1.17129 accuracy: 0.5578\n",
      "Epoch 34, CIFAR-10 Batch 5:   loss: 1.23731 accuracy: 0.5464\n",
      "Epoch 35, CIFAR-10 Batch 1:   loss: 1.34099 accuracy: 0.544\n",
      "Epoch 35, CIFAR-10 Batch 2:   loss: 1.29646 accuracy: 0.5452\n",
      "Epoch 35, CIFAR-10 Batch 3:   loss: 1.12836 accuracy: 0.5712\n",
      "Epoch 35, CIFAR-10 Batch 4:   loss: 1.1927 accuracy: 0.5474\n",
      "Epoch 35, CIFAR-10 Batch 5:   loss: 1.23805 accuracy: 0.5496\n",
      "Epoch 36, CIFAR-10 Batch 1:   loss: 1.3371 accuracy: 0.5436\n",
      "Epoch 36, CIFAR-10 Batch 2:   loss: 1.24515 accuracy: 0.5676\n",
      "Epoch 36, CIFAR-10 Batch 3:   loss: 1.13838 accuracy: 0.5596\n",
      "Epoch 36, CIFAR-10 Batch 4:   loss: 1.14898 accuracy: 0.5678\n",
      "Epoch 36, CIFAR-10 Batch 5:   loss: 1.20897 accuracy: 0.5614\n",
      "Epoch 37, CIFAR-10 Batch 1:   loss: 1.32545 accuracy: 0.5546\n",
      "Epoch 37, CIFAR-10 Batch 2:   loss: 1.22407 accuracy: 0.5622\n",
      "Epoch 37, CIFAR-10 Batch 3:   loss: 1.1365 accuracy: 0.5586\n",
      "Epoch 37, CIFAR-10 Batch 4:   loss: 1.15816 accuracy: 0.5608\n",
      "Epoch 37, CIFAR-10 Batch 5:   loss: 1.20626 accuracy: 0.5604\n",
      "Epoch 38, CIFAR-10 Batch 1:   loss: 1.29789 accuracy: 0.5568\n",
      "Epoch 38, CIFAR-10 Batch 2:   loss: 1.23172 accuracy: 0.5624\n",
      "Epoch 38, CIFAR-10 Batch 3:   loss: 1.11236 accuracy: 0.5634\n",
      "Epoch 38, CIFAR-10 Batch 4:   loss: 1.14188 accuracy: 0.5674\n",
      "Epoch 38, CIFAR-10 Batch 5:   loss: 1.20541 accuracy: 0.5624\n",
      "Epoch 39, CIFAR-10 Batch 1:   loss: 1.24357 accuracy: 0.5712\n",
      "Epoch 39, CIFAR-10 Batch 2:   loss: 1.21595 accuracy: 0.5744\n",
      "Epoch 39, CIFAR-10 Batch 3:   loss: 1.0982 accuracy: 0.5806\n",
      "Epoch 39, CIFAR-10 Batch 4:   loss: 1.14922 accuracy: 0.568\n",
      "Epoch 39, CIFAR-10 Batch 5:   loss: 1.17161 accuracy: 0.5658\n",
      "Epoch 40, CIFAR-10 Batch 1:   loss: 1.26599 accuracy: 0.5756\n",
      "Epoch 40, CIFAR-10 Batch 2:   loss: 1.23195 accuracy: 0.5678\n",
      "Epoch 40, CIFAR-10 Batch 3:   loss: 1.07601 accuracy: 0.5952\n",
      "Epoch 40, CIFAR-10 Batch 4:   loss: 1.12633 accuracy: 0.568\n",
      "Epoch 40, CIFAR-10 Batch 5:   loss: 1.20746 accuracy: 0.56\n",
      "Epoch 41, CIFAR-10 Batch 1:   loss: 1.26584 accuracy: 0.5774\n",
      "Epoch 41, CIFAR-10 Batch 2:   loss: 1.20396 accuracy: 0.5772\n",
      "Epoch 41, CIFAR-10 Batch 3:   loss: 1.089 accuracy: 0.585\n",
      "Epoch 41, CIFAR-10 Batch 4:   loss: 1.10712 accuracy: 0.5832\n",
      "Epoch 41, CIFAR-10 Batch 5:   loss: 1.15597 accuracy: 0.5774\n",
      "Epoch 42, CIFAR-10 Batch 1:   loss: 1.25047 accuracy: 0.5882\n",
      "Epoch 42, CIFAR-10 Batch 2:   loss: 1.20281 accuracy: 0.5746\n",
      "Epoch 42, CIFAR-10 Batch 3:   loss: 1.0497 accuracy: 0.5938\n",
      "Epoch 42, CIFAR-10 Batch 4:   loss: 1.08719 accuracy: 0.5892\n",
      "Epoch 42, CIFAR-10 Batch 5:   loss: 1.18201 accuracy: 0.565\n",
      "Epoch 43, CIFAR-10 Batch 1:   loss: 1.23007 accuracy: 0.586\n",
      "Epoch 43, CIFAR-10 Batch 2:   loss: 1.2022 accuracy: 0.569\n",
      "Epoch 43, CIFAR-10 Batch 3:   loss: 1.05039 accuracy: 0.5936\n",
      "Epoch 43, CIFAR-10 Batch 4:   loss: 1.09703 accuracy: 0.5776\n",
      "Epoch 43, CIFAR-10 Batch 5:   loss: 1.17299 accuracy: 0.565\n",
      "Epoch 44, CIFAR-10 Batch 1:   loss: 1.22482 accuracy: 0.5936\n",
      "Epoch 44, CIFAR-10 Batch 2:   loss: 1.26827 accuracy: 0.5516\n",
      "Epoch 44, CIFAR-10 Batch 3:   loss: 1.04463 accuracy: 0.6032\n",
      "Epoch 44, CIFAR-10 Batch 4:   loss: 1.09002 accuracy: 0.5832\n",
      "Epoch 44, CIFAR-10 Batch 5:   loss: 1.18866 accuracy: 0.5598\n",
      "Epoch 45, CIFAR-10 Batch 1:   loss: 1.18268 accuracy: 0.5968\n",
      "Epoch 45, CIFAR-10 Batch 2:   loss: 1.20474 accuracy: 0.5728\n",
      "Epoch 45, CIFAR-10 Batch 3:   loss: 1.02949 accuracy: 0.5946\n",
      "Epoch 45, CIFAR-10 Batch 4:   loss: 1.082 accuracy: 0.597\n",
      "Epoch 45, CIFAR-10 Batch 5:   loss: 1.11679 accuracy: 0.5884\n",
      "Epoch 46, CIFAR-10 Batch 1:   loss: 1.2238 accuracy: 0.5906\n",
      "Epoch 46, CIFAR-10 Batch 2:   loss: 1.24956 accuracy: 0.566\n",
      "Epoch 46, CIFAR-10 Batch 3:   loss: 1.03615 accuracy: 0.5988\n",
      "Epoch 46, CIFAR-10 Batch 4:   loss: 1.05648 accuracy: 0.592\n",
      "Epoch 46, CIFAR-10 Batch 5:   loss: 1.15725 accuracy: 0.5752\n",
      "Epoch 47, CIFAR-10 Batch 1:   loss: 1.21883 accuracy: 0.5812\n",
      "Epoch 47, CIFAR-10 Batch 2:   loss: 1.19631 accuracy: 0.5728\n",
      "Epoch 47, CIFAR-10 Batch 3:   loss: 1.0203 accuracy: 0.602\n",
      "Epoch 47, CIFAR-10 Batch 4:   loss: 1.0582 accuracy: 0.5934\n",
      "Epoch 47, CIFAR-10 Batch 5:   loss: 1.14182 accuracy: 0.5766\n",
      "Epoch 48, CIFAR-10 Batch 1:   loss: 1.18289 accuracy: 0.5994\n",
      "Epoch 48, CIFAR-10 Batch 2:   loss: 1.21937 accuracy: 0.5702\n",
      "Epoch 48, CIFAR-10 Batch 3:   loss: 1.02184 accuracy: 0.6076\n",
      "Epoch 48, CIFAR-10 Batch 4:   loss: 1.04412 accuracy: 0.5948\n",
      "Epoch 48, CIFAR-10 Batch 5:   loss: 1.09552 accuracy: 0.588\n",
      "Epoch 49, CIFAR-10 Batch 1:   loss: 1.18319 accuracy: 0.5998\n",
      "Epoch 49, CIFAR-10 Batch 2:   loss: 1.1638 accuracy: 0.584\n",
      "Epoch 49, CIFAR-10 Batch 3:   loss: 1.06082 accuracy: 0.5764\n",
      "Epoch 49, CIFAR-10 Batch 4:   loss: 1.03809 accuracy: 0.5982\n",
      "Epoch 49, CIFAR-10 Batch 5:   loss: 1.10784 accuracy: 0.59\n",
      "Epoch 50, CIFAR-10 Batch 1:   loss: 1.161 accuracy: 0.6038\n",
      "Epoch 50, CIFAR-10 Batch 2:   loss: 1.14021 accuracy: 0.598\n",
      "Epoch 50, CIFAR-10 Batch 3:   loss: 1.04043 accuracy: 0.5872\n",
      "Epoch 50, CIFAR-10 Batch 4:   loss: 1.01352 accuracy: 0.614\n",
      "Epoch 50, CIFAR-10 Batch 5:   loss: 1.08172 accuracy: 0.598\n",
      "Epoch 51, CIFAR-10 Batch 1:   loss: 1.20273 accuracy: 0.5976\n",
      "Epoch 51, CIFAR-10 Batch 2:   loss: 1.1496 accuracy: 0.5858\n",
      "Epoch 51, CIFAR-10 Batch 3:   loss: 1.01596 accuracy: 0.5962\n",
      "Epoch 51, CIFAR-10 Batch 4:   loss: 1.02108 accuracy: 0.607\n",
      "Epoch 51, CIFAR-10 Batch 5:   loss: 1.06085 accuracy: 0.6084\n",
      "Epoch 52, CIFAR-10 Batch 1:   loss: 1.14244 accuracy: 0.6118\n",
      "Epoch 52, CIFAR-10 Batch 2:   loss: 1.15703 accuracy: 0.5846\n",
      "Epoch 52, CIFAR-10 Batch 3:   loss: 1.01902 accuracy: 0.6022\n",
      "Epoch 52, CIFAR-10 Batch 4:   loss: 1.02632 accuracy: 0.6044\n",
      "Epoch 52, CIFAR-10 Batch 5:   loss: 1.06664 accuracy: 0.6028\n",
      "Epoch 53, CIFAR-10 Batch 1:   loss: 1.1555 accuracy: 0.6038\n",
      "Epoch 53, CIFAR-10 Batch 2:   loss: 1.10327 accuracy: 0.6096\n",
      "Epoch 53, CIFAR-10 Batch 3:   loss: 1.00624 accuracy: 0.6028\n",
      "Epoch 53, CIFAR-10 Batch 4:   loss: 1.01797 accuracy: 0.601\n",
      "Epoch 53, CIFAR-10 Batch 5:   loss: 1.10065 accuracy: 0.586\n",
      "Epoch 54, CIFAR-10 Batch 1:   loss: 1.15347 accuracy: 0.6076\n",
      "Epoch 54, CIFAR-10 Batch 2:   loss: 1.1191 accuracy: 0.5958\n",
      "Epoch 54, CIFAR-10 Batch 3:   loss: 0.979843 accuracy: 0.6084\n",
      "Epoch 54, CIFAR-10 Batch 4:   loss: 0.994201 accuracy: 0.6228\n",
      "Epoch 54, CIFAR-10 Batch 5:   loss: 1.07758 accuracy: 0.6008\n",
      "Epoch 55, CIFAR-10 Batch 1:   loss: 1.13533 accuracy: 0.6212\n",
      "Epoch 55, CIFAR-10 Batch 2:   loss: 1.1283 accuracy: 0.5988\n",
      "Epoch 55, CIFAR-10 Batch 3:   loss: 0.99719 accuracy: 0.6036\n",
      "Epoch 55, CIFAR-10 Batch 4:   loss: 0.985166 accuracy: 0.621\n",
      "Epoch 55, CIFAR-10 Batch 5:   loss: 1.06567 accuracy: 0.5992\n",
      "Epoch 56, CIFAR-10 Batch 1:   loss: 1.14122 accuracy: 0.6128\n",
      "Epoch 56, CIFAR-10 Batch 2:   loss: 1.07626 accuracy: 0.613\n",
      "Epoch 56, CIFAR-10 Batch 3:   loss: 0.954736 accuracy: 0.6234\n",
      "Epoch 56, CIFAR-10 Batch 4:   loss: 0.992174 accuracy: 0.6136\n",
      "Epoch 56, CIFAR-10 Batch 5:   loss: 1.05937 accuracy: 0.6086\n",
      "Epoch 57, CIFAR-10 Batch 1:   loss: 1.13149 accuracy: 0.6166\n",
      "Epoch 57, CIFAR-10 Batch 2:   loss: 1.08045 accuracy: 0.6158\n",
      "Epoch 57, CIFAR-10 Batch 3:   loss: 0.959136 accuracy: 0.6168\n",
      "Epoch 57, CIFAR-10 Batch 4:   loss: 0.96614 accuracy: 0.6274\n",
      "Epoch 57, CIFAR-10 Batch 5:   loss: 1.07761 accuracy: 0.6004\n",
      "Epoch 58, CIFAR-10 Batch 1:   loss: 1.12749 accuracy: 0.6158\n",
      "Epoch 58, CIFAR-10 Batch 2:   loss: 1.07673 accuracy: 0.6128\n",
      "Epoch 58, CIFAR-10 Batch 3:   loss: 0.951256 accuracy: 0.6188\n",
      "Epoch 58, CIFAR-10 Batch 4:   loss: 0.972749 accuracy: 0.6236\n",
      "Epoch 58, CIFAR-10 Batch 5:   loss: 1.04511 accuracy: 0.61\n",
      "Epoch 59, CIFAR-10 Batch 1:   loss: 1.14849 accuracy: 0.6174\n",
      "Epoch 59, CIFAR-10 Batch 2:   loss: 1.03158 accuracy: 0.626\n",
      "Epoch 59, CIFAR-10 Batch 3:   loss: 0.952313 accuracy: 0.6164\n",
      "Epoch 59, CIFAR-10 Batch 4:   loss: 0.967531 accuracy: 0.6216\n",
      "Epoch 59, CIFAR-10 Batch 5:   loss: 0.987434 accuracy: 0.6256\n",
      "Epoch 60, CIFAR-10 Batch 1:   loss: 1.08516 accuracy: 0.637\n",
      "Epoch 60, CIFAR-10 Batch 2:   loss: 1.0434 accuracy: 0.6226\n",
      "Epoch 60, CIFAR-10 Batch 3:   loss: 0.928855 accuracy: 0.6344\n",
      "Epoch 60, CIFAR-10 Batch 4:   loss: 0.951745 accuracy: 0.6296\n",
      "Epoch 60, CIFAR-10 Batch 5:   loss: 1.00475 accuracy: 0.619\n",
      "Epoch 61, CIFAR-10 Batch 1:   loss: 1.10221 accuracy: 0.6304\n",
      "Epoch 61, CIFAR-10 Batch 2:   loss: 1.05309 accuracy: 0.6182\n",
      "Epoch 61, CIFAR-10 Batch 3:   loss: 0.93784 accuracy: 0.6324\n",
      "Epoch 61, CIFAR-10 Batch 4:   loss: 0.931843 accuracy: 0.6328\n",
      "Epoch 61, CIFAR-10 Batch 5:   loss: 1.03231 accuracy: 0.6118\n",
      "Epoch 62, CIFAR-10 Batch 1:   loss: 1.07641 accuracy: 0.6364\n",
      "Epoch 62, CIFAR-10 Batch 2:   loss: 1.05888 accuracy: 0.6222\n",
      "Epoch 62, CIFAR-10 Batch 3:   loss: 0.92974 accuracy: 0.627\n",
      "Epoch 62, CIFAR-10 Batch 4:   loss: 0.956798 accuracy: 0.6248\n",
      "Epoch 62, CIFAR-10 Batch 5:   loss: 1.01705 accuracy: 0.6166\n",
      "Epoch 63, CIFAR-10 Batch 1:   loss: 1.06348 accuracy: 0.646\n",
      "Epoch 63, CIFAR-10 Batch 2:   loss: 1.05801 accuracy: 0.614\n",
      "Epoch 63, CIFAR-10 Batch 3:   loss: 0.961438 accuracy: 0.6196\n",
      "Epoch 63, CIFAR-10 Batch 4:   loss: 0.977675 accuracy: 0.6196\n",
      "Epoch 63, CIFAR-10 Batch 5:   loss: 0.995599 accuracy: 0.6232\n",
      "Epoch 64, CIFAR-10 Batch 1:   loss: 1.07827 accuracy: 0.6412\n",
      "Epoch 64, CIFAR-10 Batch 2:   loss: 1.0378 accuracy: 0.6228\n",
      "Epoch 64, CIFAR-10 Batch 3:   loss: 0.913243 accuracy: 0.6378\n",
      "Epoch 64, CIFAR-10 Batch 4:   loss: 0.926884 accuracy: 0.6338\n",
      "Epoch 64, CIFAR-10 Batch 5:   loss: 0.994729 accuracy: 0.6172\n",
      "Epoch 65, CIFAR-10 Batch 1:   loss: 1.06559 accuracy: 0.6444\n",
      "Epoch 65, CIFAR-10 Batch 2:   loss: 1.04181 accuracy: 0.6222\n",
      "Epoch 65, CIFAR-10 Batch 3:   loss: 0.91854 accuracy: 0.6348\n",
      "Epoch 65, CIFAR-10 Batch 4:   loss: 0.929064 accuracy: 0.6368\n",
      "Epoch 65, CIFAR-10 Batch 5:   loss: 0.997967 accuracy: 0.6196\n",
      "Epoch 66, CIFAR-10 Batch 1:   loss: 1.05406 accuracy: 0.6416\n",
      "Epoch 66, CIFAR-10 Batch 2:   loss: 1.03251 accuracy: 0.6262\n",
      "Epoch 66, CIFAR-10 Batch 3:   loss: 0.919417 accuracy: 0.6336\n",
      "Epoch 66, CIFAR-10 Batch 4:   loss: 0.927493 accuracy: 0.6436\n",
      "Epoch 66, CIFAR-10 Batch 5:   loss: 1.04182 accuracy: 0.6042\n",
      "Epoch 67, CIFAR-10 Batch 1:   loss: 1.02918 accuracy: 0.646\n",
      "Epoch 67, CIFAR-10 Batch 2:   loss: 1.0446 accuracy: 0.6252\n",
      "Epoch 67, CIFAR-10 Batch 3:   loss: 0.910338 accuracy: 0.6352\n",
      "Epoch 67, CIFAR-10 Batch 4:   loss: 0.915163 accuracy: 0.6434\n",
      "Epoch 67, CIFAR-10 Batch 5:   loss: 0.992162 accuracy: 0.623\n",
      "Epoch 68, CIFAR-10 Batch 1:   loss: 1.04472 accuracy: 0.6448\n"
     ]
    },
    {
     "name": "stdout",
     "output_type": "stream",
     "text": [
      "Epoch 68, CIFAR-10 Batch 2:   loss: 1.00114 accuracy: 0.6322\n",
      "Epoch 68, CIFAR-10 Batch 3:   loss: 0.902961 accuracy: 0.635\n",
      "Epoch 68, CIFAR-10 Batch 4:   loss: 0.914366 accuracy: 0.641\n",
      "Epoch 68, CIFAR-10 Batch 5:   loss: 0.95421 accuracy: 0.6406\n",
      "Epoch 69, CIFAR-10 Batch 1:   loss: 1.02927 accuracy: 0.6518\n",
      "Epoch 69, CIFAR-10 Batch 2:   loss: 0.991409 accuracy: 0.6466\n",
      "Epoch 69, CIFAR-10 Batch 3:   loss: 0.87708 accuracy: 0.6508\n",
      "Epoch 69, CIFAR-10 Batch 4:   loss: 0.932293 accuracy: 0.6396\n",
      "Epoch 69, CIFAR-10 Batch 5:   loss: 0.960598 accuracy: 0.6348\n",
      "Epoch 70, CIFAR-10 Batch 1:   loss: 1.02651 accuracy: 0.651\n",
      "Epoch 70, CIFAR-10 Batch 2:   loss: 1.03264 accuracy: 0.6222\n",
      "Epoch 70, CIFAR-10 Batch 3:   loss: 0.884435 accuracy: 0.6432\n",
      "Epoch 70, CIFAR-10 Batch 4:   loss: 0.944496 accuracy: 0.6264\n",
      "Epoch 70, CIFAR-10 Batch 5:   loss: 0.978 accuracy: 0.6284\n",
      "Epoch 71, CIFAR-10 Batch 1:   loss: 1.01876 accuracy: 0.6492\n",
      "Epoch 71, CIFAR-10 Batch 2:   loss: 0.993271 accuracy: 0.6368\n",
      "Epoch 71, CIFAR-10 Batch 3:   loss: 0.915106 accuracy: 0.6302\n",
      "Epoch 71, CIFAR-10 Batch 4:   loss: 0.902649 accuracy: 0.6512\n",
      "Epoch 71, CIFAR-10 Batch 5:   loss: 0.935426 accuracy: 0.6466\n",
      "Epoch 72, CIFAR-10 Batch 1:   loss: 1.01806 accuracy: 0.6492\n",
      "Epoch 72, CIFAR-10 Batch 2:   loss: 0.998399 accuracy: 0.637\n",
      "Epoch 72, CIFAR-10 Batch 3:   loss: 0.910749 accuracy: 0.6346\n",
      "Epoch 72, CIFAR-10 Batch 4:   loss: 0.889622 accuracy: 0.6538\n",
      "Epoch 72, CIFAR-10 Batch 5:   loss: 0.954381 accuracy: 0.6374\n",
      "Epoch 73, CIFAR-10 Batch 1:   loss: 1.00015 accuracy: 0.6552\n",
      "Epoch 73, CIFAR-10 Batch 2:   loss: 0.973373 accuracy: 0.6376\n",
      "Epoch 73, CIFAR-10 Batch 3:   loss: 0.869279 accuracy: 0.6422\n",
      "Epoch 73, CIFAR-10 Batch 4:   loss: 0.910354 accuracy: 0.6456\n",
      "Epoch 73, CIFAR-10 Batch 5:   loss: 0.96299 accuracy: 0.6294\n",
      "Epoch 74, CIFAR-10 Batch 1:   loss: 1.02236 accuracy: 0.659\n",
      "Epoch 74, CIFAR-10 Batch 2:   loss: 0.999849 accuracy: 0.628\n",
      "Epoch 74, CIFAR-10 Batch 3:   loss: 0.865583 accuracy: 0.6462\n",
      "Epoch 74, CIFAR-10 Batch 4:   loss: 0.889763 accuracy: 0.647\n",
      "Epoch 74, CIFAR-10 Batch 5:   loss: 0.985295 accuracy: 0.6244\n",
      "Epoch 75, CIFAR-10 Batch 1:   loss: 1.00944 accuracy: 0.654\n",
      "Epoch 75, CIFAR-10 Batch 2:   loss: 0.953682 accuracy: 0.649\n",
      "Epoch 75, CIFAR-10 Batch 3:   loss: 0.868534 accuracy: 0.6486\n",
      "Epoch 75, CIFAR-10 Batch 4:   loss: 0.903898 accuracy: 0.6438\n",
      "Epoch 75, CIFAR-10 Batch 5:   loss: 0.962364 accuracy: 0.6296\n",
      "Epoch 76, CIFAR-10 Batch 1:   loss: 1.02381 accuracy: 0.6608\n",
      "Epoch 76, CIFAR-10 Batch 2:   loss: 0.977085 accuracy: 0.6396\n",
      "Epoch 76, CIFAR-10 Batch 3:   loss: 0.877669 accuracy: 0.6386\n",
      "Epoch 76, CIFAR-10 Batch 4:   loss: 0.89318 accuracy: 0.6476\n",
      "Epoch 76, CIFAR-10 Batch 5:   loss: 0.992085 accuracy: 0.6226\n",
      "Epoch 77, CIFAR-10 Batch 1:   loss: 0.964281 accuracy: 0.6614\n",
      "Epoch 77, CIFAR-10 Batch 2:   loss: 0.957205 accuracy: 0.6472\n",
      "Epoch 77, CIFAR-10 Batch 3:   loss: 0.854171 accuracy: 0.6568\n",
      "Epoch 77, CIFAR-10 Batch 4:   loss: 0.892522 accuracy: 0.6456\n",
      "Epoch 77, CIFAR-10 Batch 5:   loss: 0.942064 accuracy: 0.6376\n",
      "Epoch 78, CIFAR-10 Batch 1:   loss: 1.00675 accuracy: 0.666\n",
      "Epoch 78, CIFAR-10 Batch 2:   loss: 0.970601 accuracy: 0.638\n",
      "Epoch 78, CIFAR-10 Batch 3:   loss: 0.88142 accuracy: 0.6376\n",
      "Epoch 78, CIFAR-10 Batch 4:   loss: 0.863148 accuracy: 0.6586\n",
      "Epoch 78, CIFAR-10 Batch 5:   loss: 0.980809 accuracy: 0.6298\n",
      "Epoch 79, CIFAR-10 Batch 1:   loss: 1.01143 accuracy: 0.6622\n",
      "Epoch 79, CIFAR-10 Batch 2:   loss: 0.944739 accuracy: 0.649\n",
      "Epoch 79, CIFAR-10 Batch 3:   loss: 0.861261 accuracy: 0.6502\n",
      "Epoch 79, CIFAR-10 Batch 4:   loss: 0.869005 accuracy: 0.6658\n",
      "Epoch 79, CIFAR-10 Batch 5:   loss: 0.927216 accuracy: 0.6468\n",
      "Epoch 80, CIFAR-10 Batch 1:   loss: 0.976267 accuracy: 0.6696\n",
      "Epoch 80, CIFAR-10 Batch 2:   loss: 0.919858 accuracy: 0.6584\n",
      "Epoch 80, CIFAR-10 Batch 3:   loss: 0.863351 accuracy: 0.642\n",
      "Epoch 80, CIFAR-10 Batch 4:   loss: 0.860893 accuracy: 0.6652\n",
      "Epoch 80, CIFAR-10 Batch 5:   loss: 0.92788 accuracy: 0.641\n",
      "Epoch 81, CIFAR-10 Batch 1:   loss: 1.00542 accuracy: 0.6582\n",
      "Epoch 81, CIFAR-10 Batch 2:   loss: 1.01721 accuracy: 0.6242\n",
      "Epoch 81, CIFAR-10 Batch 3:   loss: 0.858554 accuracy: 0.6466\n",
      "Epoch 81, CIFAR-10 Batch 4:   loss: 0.848936 accuracy: 0.6618\n",
      "Epoch 81, CIFAR-10 Batch 5:   loss: 0.957819 accuracy: 0.6286\n",
      "Epoch 82, CIFAR-10 Batch 1:   loss: 0.984002 accuracy: 0.6624\n",
      "Epoch 82, CIFAR-10 Batch 2:   loss: 0.916205 accuracy: 0.6678\n",
      "Epoch 82, CIFAR-10 Batch 3:   loss: 0.833957 accuracy: 0.6576\n",
      "Epoch 82, CIFAR-10 Batch 4:   loss: 0.881697 accuracy: 0.6524\n",
      "Epoch 82, CIFAR-10 Batch 5:   loss: 0.940829 accuracy: 0.635\n",
      "Epoch 83, CIFAR-10 Batch 1:   loss: 0.978455 accuracy: 0.669\n",
      "Epoch 83, CIFAR-10 Batch 2:   loss: 0.903228 accuracy: 0.6606\n",
      "Epoch 83, CIFAR-10 Batch 3:   loss: 0.854184 accuracy: 0.658\n",
      "Epoch 83, CIFAR-10 Batch 4:   loss: 0.862937 accuracy: 0.655\n",
      "Epoch 83, CIFAR-10 Batch 5:   loss: 0.951119 accuracy: 0.6388\n",
      "Epoch 84, CIFAR-10 Batch 1:   loss: 0.978833 accuracy: 0.6658\n",
      "Epoch 84, CIFAR-10 Batch 2:   loss: 0.889179 accuracy: 0.6694\n",
      "Epoch 84, CIFAR-10 Batch 3:   loss: 0.844755 accuracy: 0.652\n",
      "Epoch 84, CIFAR-10 Batch 4:   loss: 0.844329 accuracy: 0.6742\n",
      "Epoch 84, CIFAR-10 Batch 5:   loss: 0.887196 accuracy: 0.6632\n",
      "Epoch 85, CIFAR-10 Batch 1:   loss: 0.996229 accuracy: 0.66\n",
      "Epoch 85, CIFAR-10 Batch 2:   loss: 0.92517 accuracy: 0.661\n",
      "Epoch 85, CIFAR-10 Batch 3:   loss: 0.837957 accuracy: 0.6602\n",
      "Epoch 85, CIFAR-10 Batch 4:   loss: 0.837901 accuracy: 0.6668\n",
      "Epoch 85, CIFAR-10 Batch 5:   loss: 0.911828 accuracy: 0.6502\n",
      "Epoch 86, CIFAR-10 Batch 1:   loss: 0.980834 accuracy: 0.6622\n",
      "Epoch 86, CIFAR-10 Batch 2:   loss: 0.913607 accuracy: 0.6538\n",
      "Epoch 86, CIFAR-10 Batch 3:   loss: 0.814526 accuracy: 0.666\n",
      "Epoch 86, CIFAR-10 Batch 4:   loss: 0.828211 accuracy: 0.6726\n",
      "Epoch 86, CIFAR-10 Batch 5:   loss: 0.934211 accuracy: 0.6424\n",
      "Epoch 87, CIFAR-10 Batch 1:   loss: 0.926857 accuracy: 0.6702\n",
      "Epoch 87, CIFAR-10 Batch 2:   loss: 0.873256 accuracy: 0.6782\n",
      "Epoch 87, CIFAR-10 Batch 3:   loss: 0.818579 accuracy: 0.6624\n",
      "Epoch 87, CIFAR-10 Batch 4:   loss: 0.840638 accuracy: 0.6658\n",
      "Epoch 87, CIFAR-10 Batch 5:   loss: 0.902523 accuracy: 0.6472\n",
      "Epoch 88, CIFAR-10 Batch 1:   loss: 0.974227 accuracy: 0.6702\n",
      "Epoch 88, CIFAR-10 Batch 2:   loss: 0.880562 accuracy: 0.6728\n",
      "Epoch 88, CIFAR-10 Batch 3:   loss: 0.822177 accuracy: 0.6592\n",
      "Epoch 88, CIFAR-10 Batch 4:   loss: 0.82436 accuracy: 0.6728\n",
      "Epoch 88, CIFAR-10 Batch 5:   loss: 0.872372 accuracy: 0.6586\n",
      "Epoch 89, CIFAR-10 Batch 1:   loss: 0.958395 accuracy: 0.671\n",
      "Epoch 89, CIFAR-10 Batch 2:   loss: 0.879147 accuracy: 0.6682\n",
      "Epoch 89, CIFAR-10 Batch 3:   loss: 0.827586 accuracy: 0.6614\n",
      "Epoch 89, CIFAR-10 Batch 4:   loss: 0.836876 accuracy: 0.6664\n",
      "Epoch 89, CIFAR-10 Batch 5:   loss: 0.887691 accuracy: 0.659\n",
      "Epoch 90, CIFAR-10 Batch 1:   loss: 0.9575 accuracy: 0.6756\n",
      "Epoch 90, CIFAR-10 Batch 2:   loss: 0.893292 accuracy: 0.664\n",
      "Epoch 90, CIFAR-10 Batch 3:   loss: 0.826196 accuracy: 0.6572\n",
      "Epoch 90, CIFAR-10 Batch 4:   loss: 0.825764 accuracy: 0.6732\n",
      "Epoch 90, CIFAR-10 Batch 5:   loss: 0.85599 accuracy: 0.6658\n",
      "Epoch 91, CIFAR-10 Batch 1:   loss: 0.939902 accuracy: 0.6788\n",
      "Epoch 91, CIFAR-10 Batch 2:   loss: 0.89942 accuracy: 0.661\n",
      "Epoch 91, CIFAR-10 Batch 3:   loss: 0.821386 accuracy: 0.6608\n",
      "Epoch 91, CIFAR-10 Batch 4:   loss: 0.816536 accuracy: 0.6754\n",
      "Epoch 91, CIFAR-10 Batch 5:   loss: 0.864213 accuracy: 0.6596\n",
      "Epoch 92, CIFAR-10 Batch 1:   loss: 0.936813 accuracy: 0.6782\n",
      "Epoch 92, CIFAR-10 Batch 2:   loss: 0.90481 accuracy: 0.6656\n",
      "Epoch 92, CIFAR-10 Batch 3:   loss: 0.842155 accuracy: 0.6496\n",
      "Epoch 92, CIFAR-10 Batch 4:   loss: 0.817913 accuracy: 0.666\n",
      "Epoch 92, CIFAR-10 Batch 5:   loss: 0.858273 accuracy: 0.6618\n",
      "Epoch 93, CIFAR-10 Batch 1:   loss: 0.946542 accuracy: 0.6712\n",
      "Epoch 93, CIFAR-10 Batch 2:   loss: 0.908048 accuracy: 0.658\n",
      "Epoch 93, CIFAR-10 Batch 3:   loss: 0.803824 accuracy: 0.664\n",
      "Epoch 93, CIFAR-10 Batch 4:   loss: 0.830013 accuracy: 0.6678\n",
      "Epoch 93, CIFAR-10 Batch 5:   loss: 0.868867 accuracy: 0.6626\n",
      "Epoch 94, CIFAR-10 Batch 1:   loss: 0.913346 accuracy: 0.6772\n",
      "Epoch 94, CIFAR-10 Batch 2:   loss: 0.878247 accuracy: 0.6744\n",
      "Epoch 94, CIFAR-10 Batch 3:   loss: 0.804399 accuracy: 0.6654\n",
      "Epoch 94, CIFAR-10 Batch 4:   loss: 0.808151 accuracy: 0.6726\n",
      "Epoch 94, CIFAR-10 Batch 5:   loss: 0.865153 accuracy: 0.6592\n",
      "Epoch 95, CIFAR-10 Batch 1:   loss: 0.936469 accuracy: 0.6788\n",
      "Epoch 95, CIFAR-10 Batch 2:   loss: 0.904877 accuracy: 0.6562\n",
      "Epoch 95, CIFAR-10 Batch 3:   loss: 0.821694 accuracy: 0.6554\n",
      "Epoch 95, CIFAR-10 Batch 4:   loss: 0.788718 accuracy: 0.683\n",
      "Epoch 95, CIFAR-10 Batch 5:   loss: 0.887126 accuracy: 0.6516\n",
      "Epoch 96, CIFAR-10 Batch 1:   loss: 0.929794 accuracy: 0.6738\n",
      "Epoch 96, CIFAR-10 Batch 2:   loss: 0.894579 accuracy: 0.6628\n",
      "Epoch 96, CIFAR-10 Batch 3:   loss: 0.846743 accuracy: 0.6538\n",
      "Epoch 96, CIFAR-10 Batch 4:   loss: 0.816984 accuracy: 0.667\n",
      "Epoch 96, CIFAR-10 Batch 5:   loss: 0.84917 accuracy: 0.665\n",
      "Epoch 97, CIFAR-10 Batch 1:   loss: 0.96196 accuracy: 0.6796\n",
      "Epoch 97, CIFAR-10 Batch 2:   loss: 0.901887 accuracy: 0.6608\n",
      "Epoch 97, CIFAR-10 Batch 3:   loss: 0.773646 accuracy: 0.6736\n",
      "Epoch 97, CIFAR-10 Batch 4:   loss: 0.803705 accuracy: 0.669\n",
      "Epoch 97, CIFAR-10 Batch 5:   loss: 0.853136 accuracy: 0.6674\n",
      "Epoch 98, CIFAR-10 Batch 1:   loss: 0.927035 accuracy: 0.6826\n",
      "Epoch 98, CIFAR-10 Batch 2:   loss: 0.860041 accuracy: 0.675\n",
      "Epoch 98, CIFAR-10 Batch 3:   loss: 0.820921 accuracy: 0.6548\n",
      "Epoch 98, CIFAR-10 Batch 4:   loss: 0.787264 accuracy: 0.6768\n",
      "Epoch 98, CIFAR-10 Batch 5:   loss: 0.836326 accuracy: 0.6712\n",
      "Epoch 99, CIFAR-10 Batch 1:   loss: 0.913757 accuracy: 0.6806\n",
      "Epoch 99, CIFAR-10 Batch 2:   loss: 0.877576 accuracy: 0.6682\n",
      "Epoch 99, CIFAR-10 Batch 3:   loss: 0.760672 accuracy: 0.6772\n",
      "Epoch 99, CIFAR-10 Batch 4:   loss: 0.786479 accuracy: 0.6772\n",
      "Epoch 99, CIFAR-10 Batch 5:   loss: 0.851448 accuracy: 0.668\n",
      "Epoch 100, CIFAR-10 Batch 1:   loss: 0.909525 accuracy: 0.6832\n",
      "Epoch 100, CIFAR-10 Batch 2:   loss: 0.84537 accuracy: 0.6784\n",
      "Epoch 100, CIFAR-10 Batch 3:   loss: 0.780997 accuracy: 0.6752\n",
      "Epoch 100, CIFAR-10 Batch 4:   loss: 0.776299 accuracy: 0.6836\n",
      "Epoch 100, CIFAR-10 Batch 5:   loss: 0.847559 accuracy: 0.666\n",
      "Epoch 101, CIFAR-10 Batch 1:   loss: 0.963798 accuracy: 0.6798\n",
      "Epoch 101, CIFAR-10 Batch 2:   loss: 0.851401 accuracy: 0.6764\n",
      "Epoch 101, CIFAR-10 Batch 3:   loss: 0.780468 accuracy: 0.6754\n",
      "Epoch 101, CIFAR-10 Batch 4:   loss: 0.782445 accuracy: 0.6786\n"
     ]
    },
    {
     "name": "stdout",
     "output_type": "stream",
     "text": [
      "Epoch 101, CIFAR-10 Batch 5:   loss: 0.832039 accuracy: 0.669\n",
      "Epoch 102, CIFAR-10 Batch 1:   loss: 0.900989 accuracy: 0.6866\n",
      "Epoch 102, CIFAR-10 Batch 2:   loss: 0.843305 accuracy: 0.685\n",
      "Epoch 102, CIFAR-10 Batch 3:   loss: 0.761183 accuracy: 0.6762\n",
      "Epoch 102, CIFAR-10 Batch 4:   loss: 0.77732 accuracy: 0.6818\n",
      "Epoch 102, CIFAR-10 Batch 5:   loss: 0.884062 accuracy: 0.6612\n",
      "Epoch 103, CIFAR-10 Batch 1:   loss: 0.89666 accuracy: 0.681\n",
      "Epoch 103, CIFAR-10 Batch 2:   loss: 0.855317 accuracy: 0.679\n",
      "Epoch 103, CIFAR-10 Batch 3:   loss: 0.791729 accuracy: 0.6652\n",
      "Epoch 103, CIFAR-10 Batch 4:   loss: 0.793539 accuracy: 0.6782\n",
      "Epoch 103, CIFAR-10 Batch 5:   loss: 0.846376 accuracy: 0.6668\n",
      "Epoch 104, CIFAR-10 Batch 1:   loss: 0.943565 accuracy: 0.6732\n",
      "Epoch 104, CIFAR-10 Batch 2:   loss: 0.867046 accuracy: 0.6708\n",
      "Epoch 104, CIFAR-10 Batch 3:   loss: 0.755519 accuracy: 0.6754\n",
      "Epoch 104, CIFAR-10 Batch 4:   loss: 0.757404 accuracy: 0.686\n",
      "Epoch 104, CIFAR-10 Batch 5:   loss: 0.825669 accuracy: 0.6716\n",
      "Epoch 105, CIFAR-10 Batch 1:   loss: 0.901398 accuracy: 0.6818\n",
      "Epoch 105, CIFAR-10 Batch 2:   loss: 0.836698 accuracy: 0.6766\n",
      "Epoch 105, CIFAR-10 Batch 3:   loss: 0.760213 accuracy: 0.6734\n",
      "Epoch 105, CIFAR-10 Batch 4:   loss: 0.783156 accuracy: 0.6828\n",
      "Epoch 105, CIFAR-10 Batch 5:   loss: 0.827936 accuracy: 0.6758\n",
      "Epoch 106, CIFAR-10 Batch 1:   loss: 0.919819 accuracy: 0.6752\n",
      "Epoch 106, CIFAR-10 Batch 2:   loss: 0.840105 accuracy: 0.679\n",
      "Epoch 106, CIFAR-10 Batch 3:   loss: 0.790575 accuracy: 0.6586\n",
      "Epoch 106, CIFAR-10 Batch 4:   loss: 0.762663 accuracy: 0.6866\n",
      "Epoch 106, CIFAR-10 Batch 5:   loss: 0.821186 accuracy: 0.6776\n",
      "Epoch 107, CIFAR-10 Batch 1:   loss: 0.886618 accuracy: 0.6902\n",
      "Epoch 107, CIFAR-10 Batch 2:   loss: 0.811065 accuracy: 0.6826\n",
      "Epoch 107, CIFAR-10 Batch 3:   loss: 0.798819 accuracy: 0.6654\n",
      "Epoch 107, CIFAR-10 Batch 4:   loss: 0.787584 accuracy: 0.686\n",
      "Epoch 107, CIFAR-10 Batch 5:   loss: 0.819822 accuracy: 0.6836\n",
      "Epoch 108, CIFAR-10 Batch 1:   loss: 0.884365 accuracy: 0.6894\n",
      "Epoch 108, CIFAR-10 Batch 2:   loss: 0.831865 accuracy: 0.6762\n",
      "Epoch 108, CIFAR-10 Batch 3:   loss: 0.750412 accuracy: 0.674\n",
      "Epoch 108, CIFAR-10 Batch 4:   loss: 0.755375 accuracy: 0.6842\n",
      "Epoch 108, CIFAR-10 Batch 5:   loss: 0.834314 accuracy: 0.6698\n",
      "Epoch 109, CIFAR-10 Batch 1:   loss: 0.917376 accuracy: 0.6848\n",
      "Epoch 109, CIFAR-10 Batch 2:   loss: 0.826437 accuracy: 0.6784\n",
      "Epoch 109, CIFAR-10 Batch 3:   loss: 0.771276 accuracy: 0.6712\n",
      "Epoch 109, CIFAR-10 Batch 4:   loss: 0.754437 accuracy: 0.6842\n",
      "Epoch 109, CIFAR-10 Batch 5:   loss: 0.793013 accuracy: 0.681\n",
      "Epoch 110, CIFAR-10 Batch 1:   loss: 0.864753 accuracy: 0.6924\n",
      "Epoch 110, CIFAR-10 Batch 2:   loss: 0.80909 accuracy: 0.6786\n",
      "Epoch 110, CIFAR-10 Batch 3:   loss: 0.795633 accuracy: 0.6576\n",
      "Epoch 110, CIFAR-10 Batch 4:   loss: 0.765101 accuracy: 0.6838\n",
      "Epoch 110, CIFAR-10 Batch 5:   loss: 0.796402 accuracy: 0.682\n",
      "Epoch 111, CIFAR-10 Batch 1:   loss: 0.872524 accuracy: 0.6864\n",
      "Epoch 111, CIFAR-10 Batch 2:   loss: 0.805434 accuracy: 0.6876\n",
      "Epoch 111, CIFAR-10 Batch 3:   loss: 0.738602 accuracy: 0.6804\n",
      "Epoch 111, CIFAR-10 Batch 4:   loss: 0.741752 accuracy: 0.6882\n",
      "Epoch 111, CIFAR-10 Batch 5:   loss: 0.79618 accuracy: 0.683\n",
      "Epoch 112, CIFAR-10 Batch 1:   loss: 0.907692 accuracy: 0.6812\n",
      "Epoch 112, CIFAR-10 Batch 2:   loss: 0.838109 accuracy: 0.675\n",
      "Epoch 112, CIFAR-10 Batch 3:   loss: 0.782694 accuracy: 0.6636\n",
      "Epoch 112, CIFAR-10 Batch 4:   loss: 0.748133 accuracy: 0.6858\n",
      "Epoch 112, CIFAR-10 Batch 5:   loss: 0.799845 accuracy: 0.6818\n",
      "Epoch 113, CIFAR-10 Batch 1:   loss: 0.866331 accuracy: 0.6866\n",
      "Epoch 113, CIFAR-10 Batch 2:   loss: 0.806978 accuracy: 0.6878\n",
      "Epoch 113, CIFAR-10 Batch 3:   loss: 0.745354 accuracy: 0.6792\n",
      "Epoch 113, CIFAR-10 Batch 4:   loss: 0.739581 accuracy: 0.6928\n",
      "Epoch 113, CIFAR-10 Batch 5:   loss: 0.824699 accuracy: 0.6752\n",
      "Epoch 114, CIFAR-10 Batch 1:   loss: 0.862157 accuracy: 0.6872\n",
      "Epoch 114, CIFAR-10 Batch 2:   loss: 0.825656 accuracy: 0.674\n",
      "Epoch 114, CIFAR-10 Batch 3:   loss: 0.727098 accuracy: 0.6804\n",
      "Epoch 114, CIFAR-10 Batch 4:   loss: 0.738322 accuracy: 0.6892\n",
      "Epoch 114, CIFAR-10 Batch 5:   loss: 0.781602 accuracy: 0.6864\n",
      "Epoch 115, CIFAR-10 Batch 1:   loss: 0.865254 accuracy: 0.6916\n",
      "Epoch 115, CIFAR-10 Batch 2:   loss: 0.785233 accuracy: 0.6888\n",
      "Epoch 115, CIFAR-10 Batch 3:   loss: 0.76751 accuracy: 0.673\n",
      "Epoch 115, CIFAR-10 Batch 4:   loss: 0.740378 accuracy: 0.6908\n",
      "Epoch 115, CIFAR-10 Batch 5:   loss: 0.80295 accuracy: 0.6794\n",
      "Epoch 116, CIFAR-10 Batch 1:   loss: 0.885092 accuracy: 0.6854\n",
      "Epoch 116, CIFAR-10 Batch 2:   loss: 0.84929 accuracy: 0.6768\n",
      "Epoch 116, CIFAR-10 Batch 3:   loss: 0.728886 accuracy: 0.6754\n",
      "Epoch 116, CIFAR-10 Batch 4:   loss: 0.744693 accuracy: 0.6902\n",
      "Epoch 116, CIFAR-10 Batch 5:   loss: 0.810399 accuracy: 0.675\n",
      "Epoch 117, CIFAR-10 Batch 1:   loss: 0.867103 accuracy: 0.6888\n",
      "Epoch 117, CIFAR-10 Batch 2:   loss: 0.796892 accuracy: 0.6866\n",
      "Epoch 117, CIFAR-10 Batch 3:   loss: 0.747544 accuracy: 0.6756\n",
      "Epoch 117, CIFAR-10 Batch 4:   loss: 0.765748 accuracy: 0.6802\n",
      "Epoch 117, CIFAR-10 Batch 5:   loss: 0.79927 accuracy: 0.682\n",
      "Epoch 118, CIFAR-10 Batch 1:   loss: 0.859221 accuracy: 0.6892\n",
      "Epoch 118, CIFAR-10 Batch 2:   loss: 0.824675 accuracy: 0.6842\n",
      "Epoch 118, CIFAR-10 Batch 3:   loss: 0.7331 accuracy: 0.6814\n",
      "Epoch 118, CIFAR-10 Batch 4:   loss: 0.742485 accuracy: 0.6882\n",
      "Epoch 118, CIFAR-10 Batch 5:   loss: 0.781481 accuracy: 0.6886\n",
      "Epoch 119, CIFAR-10 Batch 1:   loss: 0.840724 accuracy: 0.6938\n",
      "Epoch 119, CIFAR-10 Batch 2:   loss: 0.807993 accuracy: 0.6908\n",
      "Epoch 119, CIFAR-10 Batch 3:   loss: 0.764665 accuracy: 0.669\n",
      "Epoch 119, CIFAR-10 Batch 4:   loss: 0.725972 accuracy: 0.691\n",
      "Epoch 119, CIFAR-10 Batch 5:   loss: 0.822043 accuracy: 0.672\n",
      "Epoch 120, CIFAR-10 Batch 1:   loss: 0.872237 accuracy: 0.6934\n",
      "Epoch 120, CIFAR-10 Batch 2:   loss: 0.783448 accuracy: 0.6982\n",
      "Epoch 120, CIFAR-10 Batch 3:   loss: 0.70918 accuracy: 0.6918\n",
      "Epoch 120, CIFAR-10 Batch 4:   loss: 0.735868 accuracy: 0.6906\n",
      "Epoch 120, CIFAR-10 Batch 5:   loss: 0.806035 accuracy: 0.678\n",
      "Epoch 121, CIFAR-10 Batch 1:   loss: 0.884271 accuracy: 0.6856\n",
      "Epoch 121, CIFAR-10 Batch 2:   loss: 0.798079 accuracy: 0.6934\n",
      "Epoch 121, CIFAR-10 Batch 3:   loss: 0.719572 accuracy: 0.6812\n",
      "Epoch 121, CIFAR-10 Batch 4:   loss: 0.719761 accuracy: 0.6962\n",
      "Epoch 121, CIFAR-10 Batch 5:   loss: 0.824399 accuracy: 0.6682\n",
      "Epoch 122, CIFAR-10 Batch 1:   loss: 0.839132 accuracy: 0.6872\n",
      "Epoch 122, CIFAR-10 Batch 2:   loss: 0.791302 accuracy: 0.6898\n",
      "Epoch 122, CIFAR-10 Batch 3:   loss: 0.711425 accuracy: 0.686\n",
      "Epoch 122, CIFAR-10 Batch 4:   loss: 0.748249 accuracy: 0.6822\n",
      "Epoch 122, CIFAR-10 Batch 5:   loss: 0.829222 accuracy: 0.6734\n",
      "Epoch 123, CIFAR-10 Batch 1:   loss: 0.839549 accuracy: 0.6988\n",
      "Epoch 123, CIFAR-10 Batch 2:   loss: 0.783326 accuracy: 0.6892\n",
      "Epoch 123, CIFAR-10 Batch 3:   loss: 0.712955 accuracy: 0.691\n",
      "Epoch 123, CIFAR-10 Batch 4:   loss: 0.71451 accuracy: 0.6928\n",
      "Epoch 123, CIFAR-10 Batch 5:   loss: 0.752033 accuracy: 0.6946\n",
      "Epoch 124, CIFAR-10 Batch 1:   loss: 0.836711 accuracy: 0.7042\n",
      "Epoch 124, CIFAR-10 Batch 2:   loss: 0.805942 accuracy: 0.6914\n",
      "Epoch 124, CIFAR-10 Batch 3:   loss: 0.699906 accuracy: 0.6926\n",
      "Epoch 124, CIFAR-10 Batch 4:   loss: 0.721015 accuracy: 0.6896\n",
      "Epoch 124, CIFAR-10 Batch 5:   loss: 0.829893 accuracy: 0.6704\n",
      "Epoch 125, CIFAR-10 Batch 1:   loss: 0.85433 accuracy: 0.6982\n",
      "Epoch 125, CIFAR-10 Batch 2:   loss: 0.815381 accuracy: 0.6832\n",
      "Epoch 125, CIFAR-10 Batch 3:   loss: 0.7484 accuracy: 0.6738\n",
      "Epoch 125, CIFAR-10 Batch 4:   loss: 0.695801 accuracy: 0.7046\n",
      "Epoch 125, CIFAR-10 Batch 5:   loss: 0.814692 accuracy: 0.6748\n",
      "Epoch 126, CIFAR-10 Batch 1:   loss: 0.831685 accuracy: 0.6956\n",
      "Epoch 126, CIFAR-10 Batch 2:   loss: 0.806933 accuracy: 0.6842\n",
      "Epoch 126, CIFAR-10 Batch 3:   loss: 0.771737 accuracy: 0.6638\n",
      "Epoch 126, CIFAR-10 Batch 4:   loss: 0.730478 accuracy: 0.6842\n",
      "Epoch 126, CIFAR-10 Batch 5:   loss: 0.77547 accuracy: 0.6884\n",
      "Epoch 127, CIFAR-10 Batch 1:   loss: 0.828299 accuracy: 0.6988\n",
      "Epoch 127, CIFAR-10 Batch 2:   loss: 0.771354 accuracy: 0.7014\n",
      "Epoch 127, CIFAR-10 Batch 3:   loss: 0.690554 accuracy: 0.6942\n",
      "Epoch 127, CIFAR-10 Batch 4:   loss: 0.711778 accuracy: 0.6982\n",
      "Epoch 127, CIFAR-10 Batch 5:   loss: 0.771338 accuracy: 0.6852\n",
      "Epoch 128, CIFAR-10 Batch 1:   loss: 0.819265 accuracy: 0.7012\n",
      "Epoch 128, CIFAR-10 Batch 2:   loss: 0.766052 accuracy: 0.7004\n",
      "Epoch 128, CIFAR-10 Batch 3:   loss: 0.693761 accuracy: 0.69\n",
      "Epoch 128, CIFAR-10 Batch 4:   loss: 0.725262 accuracy: 0.7014\n",
      "Epoch 128, CIFAR-10 Batch 5:   loss: 0.751182 accuracy: 0.6944\n",
      "Epoch 129, CIFAR-10 Batch 1:   loss: 0.852679 accuracy: 0.6964\n",
      "Epoch 129, CIFAR-10 Batch 2:   loss: 0.78202 accuracy: 0.6896\n",
      "Epoch 129, CIFAR-10 Batch 3:   loss: 0.713655 accuracy: 0.6856\n",
      "Epoch 129, CIFAR-10 Batch 4:   loss: 0.733112 accuracy: 0.6878\n",
      "Epoch 129, CIFAR-10 Batch 5:   loss: 0.807914 accuracy: 0.6782\n",
      "Epoch 130, CIFAR-10 Batch 1:   loss: 0.847971 accuracy: 0.696\n",
      "Epoch 130, CIFAR-10 Batch 2:   loss: 0.749409 accuracy: 0.6962\n",
      "Epoch 130, CIFAR-10 Batch 3:   loss: 0.683871 accuracy: 0.6948\n",
      "Epoch 130, CIFAR-10 Batch 4:   loss: 0.708872 accuracy: 0.697\n",
      "Epoch 130, CIFAR-10 Batch 5:   loss: 0.767661 accuracy: 0.6872\n",
      "Epoch 131, CIFAR-10 Batch 1:   loss: 0.829286 accuracy: 0.7034\n",
      "Epoch 131, CIFAR-10 Batch 2:   loss: 0.76409 accuracy: 0.6948\n",
      "Epoch 131, CIFAR-10 Batch 3:   loss: 0.673577 accuracy: 0.6928\n",
      "Epoch 131, CIFAR-10 Batch 4:   loss: 0.706603 accuracy: 0.7048\n",
      "Epoch 131, CIFAR-10 Batch 5:   loss: 0.795578 accuracy: 0.6856\n",
      "Epoch 132, CIFAR-10 Batch 1:   loss: 0.858221 accuracy: 0.6894\n",
      "Epoch 132, CIFAR-10 Batch 2:   loss: 0.752363 accuracy: 0.6976\n",
      "Epoch 132, CIFAR-10 Batch 3:   loss: 0.693456 accuracy: 0.6892\n",
      "Epoch 132, CIFAR-10 Batch 4:   loss: 0.697396 accuracy: 0.6998\n",
      "Epoch 132, CIFAR-10 Batch 5:   loss: 0.757719 accuracy: 0.6928\n",
      "Epoch 133, CIFAR-10 Batch 1:   loss: 0.854961 accuracy: 0.6916\n",
      "Epoch 133, CIFAR-10 Batch 2:   loss: 0.76012 accuracy: 0.697\n",
      "Epoch 133, CIFAR-10 Batch 3:   loss: 0.699509 accuracy: 0.6858\n",
      "Epoch 133, CIFAR-10 Batch 4:   loss: 0.715877 accuracy: 0.691\n",
      "Epoch 133, CIFAR-10 Batch 5:   loss: 0.773899 accuracy: 0.6832\n",
      "Epoch 134, CIFAR-10 Batch 1:   loss: 0.811925 accuracy: 0.7016\n",
      "Epoch 134, CIFAR-10 Batch 2:   loss: 0.793145 accuracy: 0.69\n",
      "Epoch 134, CIFAR-10 Batch 3:   loss: 0.716233 accuracy: 0.679\n",
      "Epoch 134, CIFAR-10 Batch 4:   loss: 0.69856 accuracy: 0.7002\n"
     ]
    },
    {
     "name": "stdout",
     "output_type": "stream",
     "text": [
      "Epoch 134, CIFAR-10 Batch 5:   loss: 0.776001 accuracy: 0.6826\n",
      "Epoch 135, CIFAR-10 Batch 1:   loss: 0.850925 accuracy: 0.691\n",
      "Epoch 135, CIFAR-10 Batch 2:   loss: 0.758287 accuracy: 0.6968\n",
      "Epoch 135, CIFAR-10 Batch 3:   loss: 0.693054 accuracy: 0.6892\n",
      "Epoch 135, CIFAR-10 Batch 4:   loss: 0.698438 accuracy: 0.702\n",
      "Epoch 135, CIFAR-10 Batch 5:   loss: 0.743676 accuracy: 0.6916\n",
      "Epoch 136, CIFAR-10 Batch 1:   loss: 0.812696 accuracy: 0.7008\n",
      "Epoch 136, CIFAR-10 Batch 2:   loss: 0.74598 accuracy: 0.6972\n",
      "Epoch 136, CIFAR-10 Batch 3:   loss: 0.67001 accuracy: 0.6888\n",
      "Epoch 136, CIFAR-10 Batch 4:   loss: 0.697675 accuracy: 0.7034\n",
      "Epoch 136, CIFAR-10 Batch 5:   loss: 0.757127 accuracy: 0.689\n",
      "Epoch 137, CIFAR-10 Batch 1:   loss: 0.799596 accuracy: 0.7042\n",
      "Epoch 137, CIFAR-10 Batch 2:   loss: 0.727028 accuracy: 0.7036\n",
      "Epoch 137, CIFAR-10 Batch 3:   loss: 0.677881 accuracy: 0.6874\n",
      "Epoch 137, CIFAR-10 Batch 4:   loss: 0.700708 accuracy: 0.7022\n",
      "Epoch 137, CIFAR-10 Batch 5:   loss: 0.765101 accuracy: 0.687\n",
      "Epoch 138, CIFAR-10 Batch 1:   loss: 0.81026 accuracy: 0.702\n",
      "Epoch 138, CIFAR-10 Batch 2:   loss: 0.770315 accuracy: 0.696\n",
      "Epoch 138, CIFAR-10 Batch 3:   loss: 0.684197 accuracy: 0.6906\n",
      "Epoch 138, CIFAR-10 Batch 4:   loss: 0.700112 accuracy: 0.6996\n",
      "Epoch 138, CIFAR-10 Batch 5:   loss: 0.728557 accuracy: 0.6958\n",
      "Epoch 139, CIFAR-10 Batch 1:   loss: 0.824361 accuracy: 0.7028\n",
      "Epoch 139, CIFAR-10 Batch 2:   loss: 0.749233 accuracy: 0.6998\n",
      "Epoch 139, CIFAR-10 Batch 3:   loss: 0.679272 accuracy: 0.695\n",
      "Epoch 139, CIFAR-10 Batch 4:   loss: 0.685254 accuracy: 0.7018\n",
      "Epoch 139, CIFAR-10 Batch 5:   loss: 0.720767 accuracy: 0.7024\n",
      "Epoch 140, CIFAR-10 Batch 1:   loss: 0.839688 accuracy: 0.697\n",
      "Epoch 140, CIFAR-10 Batch 2:   loss: 0.741873 accuracy: 0.7008\n",
      "Epoch 140, CIFAR-10 Batch 3:   loss: 0.663936 accuracy: 0.6916\n",
      "Epoch 140, CIFAR-10 Batch 4:   loss: 0.708045 accuracy: 0.6902\n",
      "Epoch 140, CIFAR-10 Batch 5:   loss: 0.738929 accuracy: 0.688\n",
      "Epoch 141, CIFAR-10 Batch 1:   loss: 0.795685 accuracy: 0.7048\n",
      "Epoch 141, CIFAR-10 Batch 2:   loss: 0.742225 accuracy: 0.7056\n",
      "Epoch 141, CIFAR-10 Batch 3:   loss: 0.680585 accuracy: 0.6866\n",
      "Epoch 141, CIFAR-10 Batch 4:   loss: 0.702437 accuracy: 0.6966\n",
      "Epoch 141, CIFAR-10 Batch 5:   loss: 0.746946 accuracy: 0.6836\n",
      "Epoch 142, CIFAR-10 Batch 1:   loss: 0.770938 accuracy: 0.7048\n",
      "Epoch 142, CIFAR-10 Batch 2:   loss: 0.747953 accuracy: 0.7036\n",
      "Epoch 142, CIFAR-10 Batch 3:   loss: 0.675185 accuracy: 0.6936\n",
      "Epoch 142, CIFAR-10 Batch 4:   loss: 0.701019 accuracy: 0.7054\n",
      "Epoch 142, CIFAR-10 Batch 5:   loss: 0.721717 accuracy: 0.6994\n",
      "Epoch 143, CIFAR-10 Batch 1:   loss: 0.813753 accuracy: 0.6956\n",
      "Epoch 143, CIFAR-10 Batch 2:   loss: 0.755487 accuracy: 0.695\n",
      "Epoch 143, CIFAR-10 Batch 3:   loss: 0.682744 accuracy: 0.6902\n",
      "Epoch 143, CIFAR-10 Batch 4:   loss: 0.685772 accuracy: 0.7038\n",
      "Epoch 143, CIFAR-10 Batch 5:   loss: 0.734746 accuracy: 0.6984\n",
      "Epoch 144, CIFAR-10 Batch 1:   loss: 0.797731 accuracy: 0.6964\n",
      "Epoch 144, CIFAR-10 Batch 2:   loss: 0.750243 accuracy: 0.6974\n",
      "Epoch 144, CIFAR-10 Batch 3:   loss: 0.678536 accuracy: 0.6956\n",
      "Epoch 144, CIFAR-10 Batch 4:   loss: 0.687985 accuracy: 0.7056\n",
      "Epoch 144, CIFAR-10 Batch 5:   loss: 0.739588 accuracy: 0.695\n",
      "Epoch 145, CIFAR-10 Batch 1:   loss: 0.808914 accuracy: 0.6978\n",
      "Epoch 145, CIFAR-10 Batch 2:   loss: 0.747691 accuracy: 0.7054\n",
      "Epoch 145, CIFAR-10 Batch 3:   loss: 0.661765 accuracy: 0.7006\n",
      "Epoch 145, CIFAR-10 Batch 4:   loss: 0.709933 accuracy: 0.6912\n",
      "Epoch 145, CIFAR-10 Batch 5:   loss: 0.731419 accuracy: 0.6942\n",
      "Epoch 146, CIFAR-10 Batch 1:   loss: 0.799616 accuracy: 0.7058\n",
      "Epoch 146, CIFAR-10 Batch 2:   loss: 0.741534 accuracy: 0.7048\n",
      "Epoch 146, CIFAR-10 Batch 3:   loss: 0.657936 accuracy: 0.7002\n",
      "Epoch 146, CIFAR-10 Batch 4:   loss: 0.710809 accuracy: 0.6976\n",
      "Epoch 146, CIFAR-10 Batch 5:   loss: 0.74946 accuracy: 0.6858\n",
      "Epoch 147, CIFAR-10 Batch 1:   loss: 0.765978 accuracy: 0.7088\n",
      "Epoch 147, CIFAR-10 Batch 2:   loss: 0.728067 accuracy: 0.704\n",
      "Epoch 147, CIFAR-10 Batch 3:   loss: 0.660849 accuracy: 0.7028\n",
      "Epoch 147, CIFAR-10 Batch 4:   loss: 0.686879 accuracy: 0.6998\n",
      "Epoch 147, CIFAR-10 Batch 5:   loss: 0.714439 accuracy: 0.6938\n",
      "Epoch 148, CIFAR-10 Batch 1:   loss: 0.751685 accuracy: 0.7058\n",
      "Epoch 148, CIFAR-10 Batch 2:   loss: 0.782649 accuracy: 0.692\n",
      "Epoch 148, CIFAR-10 Batch 3:   loss: 0.680624 accuracy: 0.6974\n",
      "Epoch 148, CIFAR-10 Batch 4:   loss: 0.683483 accuracy: 0.7052\n",
      "Epoch 148, CIFAR-10 Batch 5:   loss: 0.764405 accuracy: 0.6834\n",
      "Epoch 149, CIFAR-10 Batch 1:   loss: 0.788475 accuracy: 0.702\n",
      "Epoch 149, CIFAR-10 Batch 2:   loss: 0.751642 accuracy: 0.7022\n",
      "Epoch 149, CIFAR-10 Batch 3:   loss: 0.675338 accuracy: 0.7\n",
      "Epoch 149, CIFAR-10 Batch 4:   loss: 0.685753 accuracy: 0.7046\n",
      "Epoch 149, CIFAR-10 Batch 5:   loss: 0.734325 accuracy: 0.6978\n",
      "Epoch 150, CIFAR-10 Batch 1:   loss: 0.804573 accuracy: 0.7044\n",
      "Epoch 150, CIFAR-10 Batch 2:   loss: 0.743577 accuracy: 0.7032\n",
      "Epoch 150, CIFAR-10 Batch 3:   loss: 0.685783 accuracy: 0.6876\n",
      "Epoch 150, CIFAR-10 Batch 4:   loss: 0.668512 accuracy: 0.7006\n",
      "Epoch 150, CIFAR-10 Batch 5:   loss: 0.723203 accuracy: 0.6938\n",
      "Epoch 151, CIFAR-10 Batch 1:   loss: 0.778165 accuracy: 0.7054\n",
      "Epoch 151, CIFAR-10 Batch 2:   loss: 0.698348 accuracy: 0.7078\n",
      "Epoch 151, CIFAR-10 Batch 3:   loss: 0.645894 accuracy: 0.7042\n",
      "Epoch 151, CIFAR-10 Batch 4:   loss: 0.669235 accuracy: 0.7024\n",
      "Epoch 151, CIFAR-10 Batch 5:   loss: 0.737847 accuracy: 0.6934\n",
      "Epoch 152, CIFAR-10 Batch 1:   loss: 0.763887 accuracy: 0.7094\n",
      "Epoch 152, CIFAR-10 Batch 2:   loss: 0.71462 accuracy: 0.7124\n",
      "Epoch 152, CIFAR-10 Batch 3:   loss: 0.653206 accuracy: 0.7016\n",
      "Epoch 152, CIFAR-10 Batch 4:   loss: 0.654561 accuracy: 0.7058\n",
      "Epoch 152, CIFAR-10 Batch 5:   loss: 0.702048 accuracy: 0.7072\n",
      "Epoch 153, CIFAR-10 Batch 1:   loss: 0.765581 accuracy: 0.7132\n",
      "Epoch 153, CIFAR-10 Batch 2:   loss: 0.738167 accuracy: 0.701\n",
      "Epoch 153, CIFAR-10 Batch 3:   loss: 0.627271 accuracy: 0.7014\n",
      "Epoch 153, CIFAR-10 Batch 4:   loss: 0.659393 accuracy: 0.7066\n",
      "Epoch 153, CIFAR-10 Batch 5:   loss: 0.715581 accuracy: 0.6992\n",
      "Epoch 154, CIFAR-10 Batch 1:   loss: 0.798531 accuracy: 0.7038\n",
      "Epoch 154, CIFAR-10 Batch 2:   loss: 0.722669 accuracy: 0.7058\n",
      "Epoch 154, CIFAR-10 Batch 3:   loss: 0.6622 accuracy: 0.695\n",
      "Epoch 154, CIFAR-10 Batch 4:   loss: 0.647275 accuracy: 0.7076\n",
      "Epoch 154, CIFAR-10 Batch 5:   loss: 0.737722 accuracy: 0.6868\n",
      "Epoch 155, CIFAR-10 Batch 1:   loss: 0.76591 accuracy: 0.7112\n",
      "Epoch 155, CIFAR-10 Batch 2:   loss: 0.725173 accuracy: 0.707\n",
      "Epoch 155, CIFAR-10 Batch 3:   loss: 0.636355 accuracy: 0.6988\n",
      "Epoch 155, CIFAR-10 Batch 4:   loss: 0.650468 accuracy: 0.7096\n",
      "Epoch 155, CIFAR-10 Batch 5:   loss: 0.713532 accuracy: 0.7016\n",
      "Epoch 156, CIFAR-10 Batch 1:   loss: 0.776819 accuracy: 0.7078\n",
      "Epoch 156, CIFAR-10 Batch 2:   loss: 0.748527 accuracy: 0.7018\n",
      "Epoch 156, CIFAR-10 Batch 3:   loss: 0.627771 accuracy: 0.7008\n",
      "Epoch 156, CIFAR-10 Batch 4:   loss: 0.647332 accuracy: 0.7108\n",
      "Epoch 156, CIFAR-10 Batch 5:   loss: 0.725085 accuracy: 0.6946\n",
      "Epoch 157, CIFAR-10 Batch 1:   loss: 0.79378 accuracy: 0.705\n",
      "Epoch 157, CIFAR-10 Batch 2:   loss: 0.760013 accuracy: 0.6924\n",
      "Epoch 157, CIFAR-10 Batch 3:   loss: 0.654862 accuracy: 0.7038\n",
      "Epoch 157, CIFAR-10 Batch 4:   loss: 0.657214 accuracy: 0.7052\n",
      "Epoch 157, CIFAR-10 Batch 5:   loss: 0.719037 accuracy: 0.6962\n",
      "Epoch 158, CIFAR-10 Batch 1:   loss: 0.785757 accuracy: 0.7016\n",
      "Epoch 158, CIFAR-10 Batch 2:   loss: 0.741136 accuracy: 0.6988\n",
      "Epoch 158, CIFAR-10 Batch 3:   loss: 0.672715 accuracy: 0.6906\n",
      "Epoch 158, CIFAR-10 Batch 4:   loss: 0.655053 accuracy: 0.7104\n",
      "Epoch 158, CIFAR-10 Batch 5:   loss: 0.702252 accuracy: 0.7034\n",
      "Epoch 159, CIFAR-10 Batch 1:   loss: 0.76169 accuracy: 0.7078\n",
      "Epoch 159, CIFAR-10 Batch 2:   loss: 0.703488 accuracy: 0.7112\n",
      "Epoch 159, CIFAR-10 Batch 3:   loss: 0.647567 accuracy: 0.7062\n",
      "Epoch 159, CIFAR-10 Batch 4:   loss: 0.654374 accuracy: 0.709\n",
      "Epoch 159, CIFAR-10 Batch 5:   loss: 0.684561 accuracy: 0.7034\n",
      "Epoch 160, CIFAR-10 Batch 1:   loss: 0.742054 accuracy: 0.7136\n",
      "Epoch 160, CIFAR-10 Batch 2:   loss: 0.726075 accuracy: 0.7082\n",
      "Epoch 160, CIFAR-10 Batch 3:   loss: 0.696371 accuracy: 0.6792\n",
      "Epoch 160, CIFAR-10 Batch 4:   loss: 0.647866 accuracy: 0.7104\n",
      "Epoch 160, CIFAR-10 Batch 5:   loss: 0.701903 accuracy: 0.698\n",
      "Epoch 161, CIFAR-10 Batch 1:   loss: 0.757923 accuracy: 0.7102\n",
      "Epoch 161, CIFAR-10 Batch 2:   loss: 0.717698 accuracy: 0.708\n",
      "Epoch 161, CIFAR-10 Batch 3:   loss: 0.670653 accuracy: 0.6898\n",
      "Epoch 161, CIFAR-10 Batch 4:   loss: 0.646769 accuracy: 0.7058\n",
      "Epoch 161, CIFAR-10 Batch 5:   loss: 0.726929 accuracy: 0.6926\n",
      "Epoch 162, CIFAR-10 Batch 1:   loss: 0.756092 accuracy: 0.7058\n",
      "Epoch 162, CIFAR-10 Batch 2:   loss: 0.720624 accuracy: 0.712\n",
      "Epoch 162, CIFAR-10 Batch 3:   loss: 0.635455 accuracy: 0.7098\n",
      "Epoch 162, CIFAR-10 Batch 4:   loss: 0.649404 accuracy: 0.7132\n",
      "Epoch 162, CIFAR-10 Batch 5:   loss: 0.692015 accuracy: 0.7092\n",
      "Epoch 163, CIFAR-10 Batch 1:   loss: 0.766755 accuracy: 0.7118\n",
      "Epoch 163, CIFAR-10 Batch 2:   loss: 0.70316 accuracy: 0.7112\n",
      "Epoch 163, CIFAR-10 Batch 3:   loss: 0.628319 accuracy: 0.707\n",
      "Epoch 163, CIFAR-10 Batch 4:   loss: 0.63672 accuracy: 0.7146\n",
      "Epoch 163, CIFAR-10 Batch 5:   loss: 0.710583 accuracy: 0.7028\n",
      "Epoch 164, CIFAR-10 Batch 1:   loss: 0.761204 accuracy: 0.7118\n",
      "Epoch 164, CIFAR-10 Batch 2:   loss: 0.697816 accuracy: 0.7168\n",
      "Epoch 164, CIFAR-10 Batch 3:   loss: 0.642316 accuracy: 0.7026\n",
      "Epoch 164, CIFAR-10 Batch 4:   loss: 0.637609 accuracy: 0.7116\n",
      "Epoch 164, CIFAR-10 Batch 5:   loss: 0.707931 accuracy: 0.703\n",
      "Epoch 165, CIFAR-10 Batch 1:   loss: 0.732477 accuracy: 0.7144\n",
      "Epoch 165, CIFAR-10 Batch 2:   loss: 0.710088 accuracy: 0.7012\n",
      "Epoch 165, CIFAR-10 Batch 3:   loss: 0.626564 accuracy: 0.7028\n",
      "Epoch 165, CIFAR-10 Batch 4:   loss: 0.640821 accuracy: 0.709\n",
      "Epoch 165, CIFAR-10 Batch 5:   loss: 0.718321 accuracy: 0.6992\n",
      "Epoch 166, CIFAR-10 Batch 1:   loss: 0.746006 accuracy: 0.7096\n",
      "Epoch 166, CIFAR-10 Batch 2:   loss: 0.686839 accuracy: 0.714\n",
      "Epoch 166, CIFAR-10 Batch 3:   loss: 0.638737 accuracy: 0.7092\n",
      "Epoch 166, CIFAR-10 Batch 4:   loss: 0.627928 accuracy: 0.7176\n",
      "Epoch 166, CIFAR-10 Batch 5:   loss: 0.692114 accuracy: 0.7112\n",
      "Epoch 167, CIFAR-10 Batch 1:   loss: 0.753561 accuracy: 0.7148\n",
      "Epoch 167, CIFAR-10 Batch 2:   loss: 0.695634 accuracy: 0.7124\n",
      "Epoch 167, CIFAR-10 Batch 3:   loss: 0.652477 accuracy: 0.7012\n",
      "Epoch 167, CIFAR-10 Batch 4:   loss: 0.62866 accuracy: 0.7154\n"
     ]
    },
    {
     "name": "stdout",
     "output_type": "stream",
     "text": [
      "Epoch 167, CIFAR-10 Batch 5:   loss: 0.675834 accuracy: 0.7124\n",
      "Epoch 168, CIFAR-10 Batch 1:   loss: 0.746157 accuracy: 0.7142\n",
      "Epoch 168, CIFAR-10 Batch 2:   loss: 0.685602 accuracy: 0.7108\n",
      "Epoch 168, CIFAR-10 Batch 3:   loss: 0.611515 accuracy: 0.7092\n",
      "Epoch 168, CIFAR-10 Batch 4:   loss: 0.637417 accuracy: 0.7138\n",
      "Epoch 168, CIFAR-10 Batch 5:   loss: 0.717544 accuracy: 0.697\n",
      "Epoch 169, CIFAR-10 Batch 1:   loss: 0.737372 accuracy: 0.7088\n",
      "Epoch 169, CIFAR-10 Batch 2:   loss: 0.719433 accuracy: 0.7044\n",
      "Epoch 169, CIFAR-10 Batch 3:   loss: 0.618569 accuracy: 0.7108\n",
      "Epoch 169, CIFAR-10 Batch 4:   loss: 0.63581 accuracy: 0.7116\n",
      "Epoch 169, CIFAR-10 Batch 5:   loss: 0.688354 accuracy: 0.7074\n",
      "Epoch 170, CIFAR-10 Batch 1:   loss: 0.77697 accuracy: 0.7148\n",
      "Epoch 170, CIFAR-10 Batch 2:   loss: 0.696238 accuracy: 0.7082\n",
      "Epoch 170, CIFAR-10 Batch 3:   loss: 0.64017 accuracy: 0.7006\n",
      "Epoch 170, CIFAR-10 Batch 4:   loss: 0.62576 accuracy: 0.7114\n",
      "Epoch 170, CIFAR-10 Batch 5:   loss: 0.680465 accuracy: 0.7062\n",
      "Epoch 171, CIFAR-10 Batch 1:   loss: 0.754498 accuracy: 0.7124\n",
      "Epoch 171, CIFAR-10 Batch 2:   loss: 0.700472 accuracy: 0.7124\n",
      "Epoch 171, CIFAR-10 Batch 3:   loss: 0.626971 accuracy: 0.7044\n",
      "Epoch 171, CIFAR-10 Batch 4:   loss: 0.629399 accuracy: 0.7118\n",
      "Epoch 171, CIFAR-10 Batch 5:   loss: 0.686838 accuracy: 0.7084\n",
      "Epoch 172, CIFAR-10 Batch 1:   loss: 0.754058 accuracy: 0.707\n",
      "Epoch 172, CIFAR-10 Batch 2:   loss: 0.676016 accuracy: 0.7132\n",
      "Epoch 172, CIFAR-10 Batch 3:   loss: 0.622509 accuracy: 0.7096\n",
      "Epoch 172, CIFAR-10 Batch 4:   loss: 0.610132 accuracy: 0.7142\n",
      "Epoch 172, CIFAR-10 Batch 5:   loss: 0.683829 accuracy: 0.708\n",
      "Epoch 173, CIFAR-10 Batch 1:   loss: 0.718309 accuracy: 0.719\n",
      "Epoch 173, CIFAR-10 Batch 2:   loss: 0.69182 accuracy: 0.7118\n",
      "Epoch 173, CIFAR-10 Batch 3:   loss: 0.620897 accuracy: 0.7036\n",
      "Epoch 173, CIFAR-10 Batch 4:   loss: 0.614806 accuracy: 0.7196\n",
      "Epoch 173, CIFAR-10 Batch 5:   loss: 0.658635 accuracy: 0.7154\n",
      "Epoch 174, CIFAR-10 Batch 1:   loss: 0.712145 accuracy: 0.7154\n",
      "Epoch 174, CIFAR-10 Batch 2:   loss: 0.674439 accuracy: 0.7132\n",
      "Epoch 174, CIFAR-10 Batch 3:   loss: 0.604366 accuracy: 0.7096\n",
      "Epoch 174, CIFAR-10 Batch 4:   loss: 0.645685 accuracy: 0.7082\n",
      "Epoch 174, CIFAR-10 Batch 5:   loss: 0.698221 accuracy: 0.7076\n",
      "Epoch 175, CIFAR-10 Batch 1:   loss: 0.725757 accuracy: 0.7138\n",
      "Epoch 175, CIFAR-10 Batch 2:   loss: 0.686585 accuracy: 0.7092\n",
      "Epoch 175, CIFAR-10 Batch 3:   loss: 0.608713 accuracy: 0.7142\n",
      "Epoch 175, CIFAR-10 Batch 4:   loss: 0.615806 accuracy: 0.7196\n",
      "Epoch 175, CIFAR-10 Batch 5:   loss: 0.69308 accuracy: 0.7126\n",
      "Epoch 176, CIFAR-10 Batch 1:   loss: 0.746346 accuracy: 0.7074\n",
      "Epoch 176, CIFAR-10 Batch 2:   loss: 0.672941 accuracy: 0.7136\n",
      "Epoch 176, CIFAR-10 Batch 3:   loss: 0.606784 accuracy: 0.7038\n",
      "Epoch 176, CIFAR-10 Batch 4:   loss: 0.621893 accuracy: 0.7172\n",
      "Epoch 176, CIFAR-10 Batch 5:   loss: 0.678007 accuracy: 0.7076\n",
      "Epoch 177, CIFAR-10 Batch 1:   loss: 0.714556 accuracy: 0.7116\n",
      "Epoch 177, CIFAR-10 Batch 2:   loss: 0.669384 accuracy: 0.7168\n",
      "Epoch 177, CIFAR-10 Batch 3:   loss: 0.598987 accuracy: 0.709\n",
      "Epoch 177, CIFAR-10 Batch 4:   loss: 0.621735 accuracy: 0.7114\n",
      "Epoch 177, CIFAR-10 Batch 5:   loss: 0.667481 accuracy: 0.7066\n",
      "Epoch 178, CIFAR-10 Batch 1:   loss: 0.736026 accuracy: 0.716\n",
      "Epoch 178, CIFAR-10 Batch 2:   loss: 0.701339 accuracy: 0.7048\n",
      "Epoch 178, CIFAR-10 Batch 3:   loss: 0.631204 accuracy: 0.6996\n",
      "Epoch 178, CIFAR-10 Batch 4:   loss: 0.625977 accuracy: 0.7118\n",
      "Epoch 178, CIFAR-10 Batch 5:   loss: 0.696379 accuracy: 0.7114\n",
      "Epoch 179, CIFAR-10 Batch 1:   loss: 0.728457 accuracy: 0.7124\n",
      "Epoch 179, CIFAR-10 Batch 2:   loss: 0.672059 accuracy: 0.7162\n",
      "Epoch 179, CIFAR-10 Batch 3:   loss: 0.627991 accuracy: 0.7036\n",
      "Epoch 179, CIFAR-10 Batch 4:   loss: 0.626459 accuracy: 0.7098\n",
      "Epoch 179, CIFAR-10 Batch 5:   loss: 0.673888 accuracy: 0.7088\n",
      "Epoch 180, CIFAR-10 Batch 1:   loss: 0.749209 accuracy: 0.7112\n",
      "Epoch 180, CIFAR-10 Batch 2:   loss: 0.674082 accuracy: 0.7068\n",
      "Epoch 180, CIFAR-10 Batch 3:   loss: 0.640075 accuracy: 0.7002\n",
      "Epoch 180, CIFAR-10 Batch 4:   loss: 0.621428 accuracy: 0.717\n",
      "Epoch 180, CIFAR-10 Batch 5:   loss: 0.694611 accuracy: 0.7042\n",
      "Epoch 181, CIFAR-10 Batch 1:   loss: 0.733245 accuracy: 0.7108\n",
      "Epoch 181, CIFAR-10 Batch 2:   loss: 0.683464 accuracy: 0.7092\n",
      "Epoch 181, CIFAR-10 Batch 3:   loss: 0.643543 accuracy: 0.6924\n",
      "Epoch 181, CIFAR-10 Batch 4:   loss: 0.610069 accuracy: 0.7156\n",
      "Epoch 181, CIFAR-10 Batch 5:   loss: 0.669673 accuracy: 0.7082\n",
      "Epoch 182, CIFAR-10 Batch 1:   loss: 0.695796 accuracy: 0.718\n",
      "Epoch 182, CIFAR-10 Batch 2:   loss: 0.658499 accuracy: 0.7142\n",
      "Epoch 182, CIFAR-10 Batch 3:   loss: 0.60088 accuracy: 0.7114\n",
      "Epoch 182, CIFAR-10 Batch 4:   loss: 0.63513 accuracy: 0.7096\n",
      "Epoch 182, CIFAR-10 Batch 5:   loss: 0.696757 accuracy: 0.6958\n",
      "Epoch 183, CIFAR-10 Batch 1:   loss: 0.744916 accuracy: 0.715\n",
      "Epoch 183, CIFAR-10 Batch 2:   loss: 0.667849 accuracy: 0.7158\n",
      "Epoch 183, CIFAR-10 Batch 3:   loss: 0.613606 accuracy: 0.7122\n",
      "Epoch 183, CIFAR-10 Batch 4:   loss: 0.60293 accuracy: 0.7146\n",
      "Epoch 183, CIFAR-10 Batch 5:   loss: 0.661671 accuracy: 0.7118\n",
      "Epoch 184, CIFAR-10 Batch 1:   loss: 0.717758 accuracy: 0.7146\n",
      "Epoch 184, CIFAR-10 Batch 2:   loss: 0.677339 accuracy: 0.7148\n",
      "Epoch 184, CIFAR-10 Batch 3:   loss: 0.609701 accuracy: 0.7102\n",
      "Epoch 184, CIFAR-10 Batch 4:   loss: 0.63035 accuracy: 0.7124\n",
      "Epoch 184, CIFAR-10 Batch 5:   loss: 0.658723 accuracy: 0.7152\n",
      "Epoch 185, CIFAR-10 Batch 1:   loss: 0.705722 accuracy: 0.7228\n",
      "Epoch 185, CIFAR-10 Batch 2:   loss: 0.66212 accuracy: 0.7218\n",
      "Epoch 185, CIFAR-10 Batch 3:   loss: 0.612681 accuracy: 0.7114\n",
      "Epoch 185, CIFAR-10 Batch 4:   loss: 0.606554 accuracy: 0.719\n",
      "Epoch 185, CIFAR-10 Batch 5:   loss: 0.652831 accuracy: 0.7116\n",
      "Epoch 186, CIFAR-10 Batch 1:   loss: 0.689671 accuracy: 0.7222\n",
      "Epoch 186, CIFAR-10 Batch 2:   loss: 0.656388 accuracy: 0.7144\n",
      "Epoch 186, CIFAR-10 Batch 3:   loss: 0.608671 accuracy: 0.717\n",
      "Epoch 186, CIFAR-10 Batch 4:   loss: 0.605635 accuracy: 0.725\n",
      "Epoch 186, CIFAR-10 Batch 5:   loss: 0.676264 accuracy: 0.7052\n",
      "Epoch 187, CIFAR-10 Batch 1:   loss: 0.719121 accuracy: 0.715\n",
      "Epoch 187, CIFAR-10 Batch 2:   loss: 0.693107 accuracy: 0.7096\n",
      "Epoch 187, CIFAR-10 Batch 3:   loss: 0.603371 accuracy: 0.7198\n",
      "Epoch 187, CIFAR-10 Batch 4:   loss: 0.597368 accuracy: 0.7206\n",
      "Epoch 187, CIFAR-10 Batch 5:   loss: 0.641054 accuracy: 0.7126\n",
      "Epoch 188, CIFAR-10 Batch 1:   loss: 0.703579 accuracy: 0.7178\n",
      "Epoch 188, CIFAR-10 Batch 2:   loss: 0.653908 accuracy: 0.721\n",
      "Epoch 188, CIFAR-10 Batch 3:   loss: 0.586926 accuracy: 0.72\n",
      "Epoch 188, CIFAR-10 Batch 4:   loss: 0.605908 accuracy: 0.7188\n",
      "Epoch 188, CIFAR-10 Batch 5:   loss: 0.645349 accuracy: 0.7142\n",
      "Epoch 189, CIFAR-10 Batch 1:   loss: 0.715971 accuracy: 0.7204\n",
      "Epoch 189, CIFAR-10 Batch 2:   loss: 0.693322 accuracy: 0.7028\n",
      "Epoch 189, CIFAR-10 Batch 3:   loss: 0.594618 accuracy: 0.7154\n",
      "Epoch 189, CIFAR-10 Batch 4:   loss: 0.608256 accuracy: 0.7186\n",
      "Epoch 189, CIFAR-10 Batch 5:   loss: 0.649319 accuracy: 0.7168\n",
      "Epoch 190, CIFAR-10 Batch 1:   loss: 0.716633 accuracy: 0.719\n",
      "Epoch 190, CIFAR-10 Batch 2:   loss: 0.661857 accuracy: 0.7134\n",
      "Epoch 190, CIFAR-10 Batch 3:   loss: 0.586349 accuracy: 0.7158\n",
      "Epoch 190, CIFAR-10 Batch 4:   loss: 0.600576 accuracy: 0.7156\n",
      "Epoch 190, CIFAR-10 Batch 5:   loss: 0.661203 accuracy: 0.7122\n",
      "Epoch 191, CIFAR-10 Batch 1:   loss: 0.754776 accuracy: 0.7084\n",
      "Epoch 191, CIFAR-10 Batch 2:   loss: 0.64729 accuracy: 0.715\n",
      "Epoch 191, CIFAR-10 Batch 3:   loss: 0.596187 accuracy: 0.7044\n",
      "Epoch 191, CIFAR-10 Batch 4:   loss: 0.584427 accuracy: 0.722\n",
      "Epoch 191, CIFAR-10 Batch 5:   loss: 0.641445 accuracy: 0.717\n",
      "Epoch 192, CIFAR-10 Batch 1:   loss: 0.701271 accuracy: 0.7214\n",
      "Epoch 192, CIFAR-10 Batch 2:   loss: 0.654107 accuracy: 0.7178\n",
      "Epoch 192, CIFAR-10 Batch 3:   loss: 0.583962 accuracy: 0.7194\n",
      "Epoch 192, CIFAR-10 Batch 4:   loss: 0.59358 accuracy: 0.7218\n",
      "Epoch 192, CIFAR-10 Batch 5:   loss: 0.640979 accuracy: 0.7128\n",
      "Epoch 193, CIFAR-10 Batch 1:   loss: 0.699825 accuracy: 0.7238\n",
      "Epoch 193, CIFAR-10 Batch 2:   loss: 0.6498 accuracy: 0.7208\n",
      "Epoch 193, CIFAR-10 Batch 3:   loss: 0.601093 accuracy: 0.7174\n",
      "Epoch 193, CIFAR-10 Batch 4:   loss: 0.594697 accuracy: 0.7234\n",
      "Epoch 193, CIFAR-10 Batch 5:   loss: 0.654554 accuracy: 0.7146\n",
      "Epoch 194, CIFAR-10 Batch 1:   loss: 0.726462 accuracy: 0.7194\n",
      "Epoch 194, CIFAR-10 Batch 2:   loss: 0.653591 accuracy: 0.7192\n",
      "Epoch 194, CIFAR-10 Batch 3:   loss: 0.598601 accuracy: 0.7054\n",
      "Epoch 194, CIFAR-10 Batch 4:   loss: 0.59352 accuracy: 0.7278\n",
      "Epoch 194, CIFAR-10 Batch 5:   loss: 0.635034 accuracy: 0.719\n",
      "Epoch 195, CIFAR-10 Batch 1:   loss: 0.700176 accuracy: 0.7218\n",
      "Epoch 195, CIFAR-10 Batch 2:   loss: 0.641786 accuracy: 0.7204\n",
      "Epoch 195, CIFAR-10 Batch 3:   loss: 0.59519 accuracy: 0.709\n",
      "Epoch 195, CIFAR-10 Batch 4:   loss: 0.589205 accuracy: 0.721\n",
      "Epoch 195, CIFAR-10 Batch 5:   loss: 0.671022 accuracy: 0.706\n",
      "Epoch 196, CIFAR-10 Batch 1:   loss: 0.699996 accuracy: 0.718\n",
      "Epoch 196, CIFAR-10 Batch 2:   loss: 0.655823 accuracy: 0.7214\n",
      "Epoch 196, CIFAR-10 Batch 3:   loss: 0.59994 accuracy: 0.7188\n",
      "Epoch 196, CIFAR-10 Batch 4:   loss: 0.605089 accuracy: 0.7218\n",
      "Epoch 196, CIFAR-10 Batch 5:   loss: 0.644799 accuracy: 0.7218\n",
      "Epoch 197, CIFAR-10 Batch 1:   loss: 0.677521 accuracy: 0.7226\n",
      "Epoch 197, CIFAR-10 Batch 2:   loss: 0.644166 accuracy: 0.7204\n",
      "Epoch 197, CIFAR-10 Batch 3:   loss: 0.576334 accuracy: 0.7252\n",
      "Epoch 197, CIFAR-10 Batch 4:   loss: 0.590224 accuracy: 0.7242\n",
      "Epoch 197, CIFAR-10 Batch 5:   loss: 0.622987 accuracy: 0.717\n",
      "Epoch 198, CIFAR-10 Batch 1:   loss: 0.71274 accuracy: 0.7244\n",
      "Epoch 198, CIFAR-10 Batch 2:   loss: 0.671852 accuracy: 0.7136\n",
      "Epoch 198, CIFAR-10 Batch 3:   loss: 0.596578 accuracy: 0.7072\n",
      "Epoch 198, CIFAR-10 Batch 4:   loss: 0.578598 accuracy: 0.724\n",
      "Epoch 198, CIFAR-10 Batch 5:   loss: 0.626314 accuracy: 0.7112\n",
      "Epoch 199, CIFAR-10 Batch 1:   loss: 0.729207 accuracy: 0.716\n",
      "Epoch 199, CIFAR-10 Batch 2:   loss: 0.629876 accuracy: 0.7194\n",
      "Epoch 199, CIFAR-10 Batch 3:   loss: 0.587942 accuracy: 0.7128\n",
      "Epoch 199, CIFAR-10 Batch 4:   loss: 0.579497 accuracy: 0.725\n",
      "Epoch 199, CIFAR-10 Batch 5:   loss: 0.663474 accuracy: 0.7044\n",
      "Epoch 200, CIFAR-10 Batch 1:   loss: 0.702851 accuracy: 0.717\n",
      "Epoch 200, CIFAR-10 Batch 2:   loss: 0.650691 accuracy: 0.7186\n",
      "Epoch 200, CIFAR-10 Batch 3:   loss: 0.608023 accuracy: 0.7128\n",
      "Epoch 200, CIFAR-10 Batch 4:   loss: 0.588716 accuracy: 0.732\n",
      "Epoch 200, CIFAR-10 Batch 5:   loss: 0.659427 accuracy: 0.7098\n"
     ]
    }
   ],
   "source": [
    "\"\"\"\n",
    "DON'T MODIFY ANYTHING IN THIS CELL\n",
    "\"\"\"\n",
    "save_model_path = './image_classification'\n",
    "\n",
    "print('Training...')\n",
    "with tf.Session() as sess:\n",
    "    # Initializing the variables\n",
    "    sess.run(tf.global_variables_initializer())\n",
    "    \n",
    "    # Training cycle\n",
    "    for epoch in range(epochs):\n",
    "        # Loop over all batches\n",
    "        n_batches = 5\n",
    "        for batch_i in range(1, n_batches + 1):\n",
    "            for batch_features, batch_labels in helper.load_preprocess_training_batch(batch_i, batch_size):\n",
    "                train_neural_network(sess, optimizer, keep_probability, batch_features, batch_labels)\n",
    "            print('Epoch {:>2}, CIFAR-10 Batch {}:  '.format(epoch + 1, batch_i), end='')\n",
    "            print_stats(sess, batch_features, batch_labels, cost, accuracy)\n",
    "            \n",
    "    # Save Model\n",
    "    saver = tf.train.Saver()\n",
    "    save_path = saver.save(sess, save_model_path)"
   ]
  },
  {
   "cell_type": "markdown",
   "metadata": {
    "colab_type": "text",
    "id": "jm94DutayGVU"
   },
   "source": [
    "# 检查点\n",
    "\n",
    "模型已保存到本地。\n",
    "\n",
    "## 测试模型\n",
    "\n",
    "利用测试数据集测试你的模型。这将是最终的准确率。你的准确率应该高于 50%。如果没达到，请继续调整模型结构和参数。"
   ]
  },
  {
   "cell_type": "code",
   "execution_count": 75,
   "metadata": {
    "colab": {
     "autoexec": {
      "startup": false,
      "wait_interval": 0
     },
     "base_uri": "https://localhost:8080/",
     "height": 392,
     "output_extras": [
      {
       "item_id": 2
      },
      {
       "item_id": 3
      }
     ]
    },
    "colab_type": "code",
    "executionInfo": {
     "elapsed": 3109,
     "status": "ok",
     "timestamp": 1518437767485,
     "user": {
      "displayName": "Jachin Shen",
      "photoUrl": "https://lh3.googleusercontent.com/a/default-user=s128",
      "userId": "106689561339379028936"
     },
     "user_tz": -480
    },
    "id": "S6-7BWW4yGVU",
    "outputId": "f3dcbb1e-efe3-4e70-d335-b41b3a73b5d2"
   },
   "outputs": [
    {
     "name": "stdout",
     "output_type": "stream",
     "text": [
      "INFO:tensorflow:Restoring parameters from ./image_classification\n",
      "Testing Accuracy: 0.6978056073188782\n",
      "\n"
     ]
    },
    {
     "data": {
      "image/png": "[encoded data removed]",
      "text/plain": [
       "<matplotlib.figure.Figure at 0x7f5fc85b5940>"
      ]
     },
     "metadata": {
      "image/png": {
       "height": 319,
       "width": 354
      },
      "tags": []
     },
     "output_type": "display_data"
    }
   ],
   "source": [
    "\"\"\"\n",
    "DON'T MODIFY ANYTHING IN THIS CELL\n",
    "\"\"\"\n",
    "%matplotlib inline\n",
    "%config InlineBackend.figure_format = 'retina'\n",
    "\n",
    "import tensorflow as tf\n",
    "import pickle\n",
    "import helper\n",
    "import random\n",
    "\n",
    "# Set batch size if not already set\n",
    "try:\n",
    "    if batch_size:\n",
    "        pass\n",
    "except NameError:\n",
    "    batch_size = 64\n",
    "\n",
    "save_model_path = './image_classification'\n",
    "n_samples = 4\n",
    "top_n_predictions = 3\n",
    "\n",
    "def test_model():\n",
    "    \"\"\"\n",
    "    Test the saved model against the test dataset\n",
    "    \"\"\"\n",
    "\n",
    "    test_features, test_labels = pickle.load(open('preprocess_test.p', mode='rb'))\n",
    "    loaded_graph = tf.Graph()\n",
    "\n",
    "    with tf.Session(graph=loaded_graph) as sess:\n",
    "        # Load model\n",
    "        loader = tf.train.import_meta_graph(save_model_path + '.meta')\n",
    "        loader.restore(sess, save_model_path)\n",
    "\n",
    "        # Get Tensors from loaded model\n",
    "        loaded_x = loaded_graph.get_tensor_by_name('x:0')\n",
    "        loaded_y = loaded_graph.get_tensor_by_name('y:0')\n",
    "        loaded_keep_prob = loaded_graph.get_tensor_by_name('keep_prob:0')\n",
    "        loaded_logits = loaded_graph.get_tensor_by_name('logits:0')\n",
    "        loaded_acc = loaded_graph.get_tensor_by_name('accuracy:0')\n",
    "        \n",
    "        # Get accuracy in batches for memory limitations\n",
    "        test_batch_acc_total = 0\n",
    "        test_batch_count = 0\n",
    "        \n",
    "        for test_feature_batch, test_label_batch in helper.batch_features_labels(test_features, test_labels, batch_size):\n",
    "            test_batch_acc_total += sess.run(\n",
    "                loaded_acc,\n",
    "                feed_dict={loaded_x: test_feature_batch, loaded_y: test_label_batch, loaded_keep_prob: 1.0})\n",
    "            test_batch_count += 1\n",
    "\n",
    "        print('Testing Accuracy: {}\\n'.format(test_batch_acc_total/test_batch_count))\n",
    "\n",
    "        # Print Random Samples\n",
    "        random_test_features, random_test_labels = tuple(zip(*random.sample(list(zip(test_features, test_labels)), n_samples)))\n",
    "        random_test_predictions = sess.run(\n",
    "            tf.nn.top_k(tf.nn.softmax(loaded_logits), top_n_predictions),\n",
    "            feed_dict={loaded_x: random_test_features, loaded_y: random_test_labels, loaded_keep_prob: 1.0})\n",
    "        helper.display_image_predictions(random_test_features, random_test_labels, random_test_predictions)\n",
    "\n",
    "\n",
    "test_model()"
   ]
  },
  {
   "cell_type": "markdown",
   "metadata": {
    "colab_type": "text",
    "id": "PqOmHDOpyGVW"
   },
   "source": [
    "## 为何准确率只有50-80%？\n",
    "\n",
    "你可能想问，为何准确率不能更高了？首先，对于简单的 CNN 网络来说，50% 已经不低了。纯粹猜测的准确率为10%。但是，你可能注意到有人的准确率[远远超过 80%](http://rodrigob.github.io/are_we_there_yet/build/classification_datasets_results.html#43494641522d3130)。这是因为我们还没有介绍所有的神经网络知识。我们还需要掌握一些其他技巧。\n",
    "\n",
    "## 提交项目\n",
    "\n",
    "提交项目时，确保先运行所有单元，然后再保存记事本。将 notebook 文件另存为“dlnd_image_classification.ipynb”，再在目录 \"File\" -> \"Download as\" 另存为 HTML 格式。请在提交的项目中包含 “helper.py” 和 “problem_unittests.py” 文件。\n"
   ]
  }
 ],
 "metadata": {
  "accelerator": "GPU",
  "colab": {
   "collapsed_sections": [],
   "default_view": {},
   "name": "dlnd_image_classification.ipynb（副本）",
   "provenance": [],
   "version": "0.3.2",
   "views": {}
  },
  "kernelspec": {
   "display_name": "Python 3",
   "language": "python",
   "name": "python3"
  },
  "language_info": {
   "codemirror_mode": {
    "name": "ipython",
    "version": 3
   },
   "file_extension": ".py",
   "mimetype": "text/x-python",
   "name": "python",
   "nbconvert_exporter": "python",
   "pygments_lexer": "ipython3",
   "version": "3.5.2"
  }
 },
 "nbformat": 4,
 "nbformat_minor": 1
}
